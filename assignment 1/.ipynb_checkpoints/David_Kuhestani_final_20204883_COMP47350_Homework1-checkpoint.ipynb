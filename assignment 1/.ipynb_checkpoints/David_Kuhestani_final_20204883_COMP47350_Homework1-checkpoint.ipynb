{
 "cells": [
  {
   "cell_type": "markdown",
   "id": "falling-horizontal",
   "metadata": {},
   "source": [
    "# Homework Assignment 1"
   ]
  },
  {
   "cell_type": "code",
   "execution_count": 1,
   "id": "upper-monte",
   "metadata": {},
   "outputs": [],
   "source": [
    "#Import the required packages\n",
    "#Import package pandas for data analysis\n",
    "import pandas as pd\n",
    "\n",
    "# Import package numpy for numeric computing\n",
    "import numpy as np\n",
    "\n",
    "# Import package matplotlib for visualisation/plotting\n",
    "import matplotlib.pyplot as plt\n",
    "\n",
    "#For showing plots directly in the notebook run the command below\n",
    "%matplotlib inline\n",
    "\n",
    "# For saving multiple plots into a single pdf file\n",
    "from matplotlib.backends.backend_pdf import PdfPages\n",
    "\n",
    "import scipy.stats as ss\n",
    "import seaborn as sn\n",
    "\n",
    "\n",
    "import matplotlib.patches as mpatches\n",
    "\n",
    "\n"
   ]
  },
  {
   "cell_type": "markdown",
   "id": "fluid-daniel",
   "metadata": {},
   "source": [
    "<b>Reading in csv file<b>"
   ]
  },
  {
   "cell_type": "code",
   "execution_count": 2,
   "id": "confirmed-bearing",
   "metadata": {},
   "outputs": [],
   "source": [
    "# Reading from a csv file, into a data frame\n",
    "# setting parameters to remove white space from the beginning and end of column names\n",
    "df = pd.read_csv('covid19-cdc-20204883.csv', keep_default_na=True, sep=',\\s+', delimiter=',', skipinitialspace=True)"
   ]
  },
  {
   "cell_type": "markdown",
   "id": "velvet-contemporary",
   "metadata": {},
   "source": [
    "# Part 1) Investingating dataset"
   ]
  },
  {
   "cell_type": "code",
   "execution_count": 3,
   "id": "simple-refrigerator",
   "metadata": {},
   "outputs": [
    {
     "data": {
      "text/plain": [
       "(10000, 12)"
      ]
     },
     "execution_count": 3,
     "metadata": {},
     "output_type": "execute_result"
    }
   ],
   "source": [
    "#Checking how many rows and columns the dataset has\n",
    "df.shape"
   ]
  },
  {
   "cell_type": "markdown",
   "id": "elect-discipline",
   "metadata": {},
   "source": [
    "The dataset has 10000 entries with 12 features per entry."
   ]
  },
  {
   "cell_type": "markdown",
   "id": "twenty-islam",
   "metadata": {},
   "source": [
    "<b>Printing first and last 5 rows in the dataset<b>"
   ]
  },
  {
   "cell_type": "code",
   "execution_count": 4,
   "id": "nominated-stick",
   "metadata": {},
   "outputs": [
    {
     "data": {
      "text/html": [
       "<div>\n",
       "<style scoped>\n",
       "    .dataframe tbody tr th:only-of-type {\n",
       "        vertical-align: middle;\n",
       "    }\n",
       "\n",
       "    .dataframe tbody tr th {\n",
       "        vertical-align: top;\n",
       "    }\n",
       "\n",
       "    .dataframe thead th {\n",
       "        text-align: right;\n",
       "    }\n",
       "</style>\n",
       "<table border=\"1\" class=\"dataframe\">\n",
       "  <thead>\n",
       "    <tr style=\"text-align: right;\">\n",
       "      <th></th>\n",
       "      <th>cdc_case_earliest_dt</th>\n",
       "      <th>cdc_report_dt</th>\n",
       "      <th>pos_spec_dt</th>\n",
       "      <th>onset_dt</th>\n",
       "      <th>current_status</th>\n",
       "      <th>sex</th>\n",
       "      <th>age_group</th>\n",
       "      <th>race_ethnicity_combined</th>\n",
       "      <th>hosp_yn</th>\n",
       "      <th>icu_yn</th>\n",
       "      <th>death_yn</th>\n",
       "      <th>medcond_yn</th>\n",
       "    </tr>\n",
       "  </thead>\n",
       "  <tbody>\n",
       "    <tr>\n",
       "      <th>0</th>\n",
       "      <td>2020/12/30</td>\n",
       "      <td>2020/12/30</td>\n",
       "      <td>2021/01/02</td>\n",
       "      <td>2020/12/30</td>\n",
       "      <td>Laboratory-confirmed case</td>\n",
       "      <td>Male</td>\n",
       "      <td>40 - 49 Years</td>\n",
       "      <td>White, Non-Hispanic</td>\n",
       "      <td>No</td>\n",
       "      <td>No</td>\n",
       "      <td>No</td>\n",
       "      <td>Yes</td>\n",
       "    </tr>\n",
       "    <tr>\n",
       "      <th>1</th>\n",
       "      <td>2020/12/21</td>\n",
       "      <td>2020/12/29</td>\n",
       "      <td>2020/12/22</td>\n",
       "      <td>2020/12/21</td>\n",
       "      <td>Laboratory-confirmed case</td>\n",
       "      <td>Male</td>\n",
       "      <td>60 - 69 Years</td>\n",
       "      <td>White, Non-Hispanic</td>\n",
       "      <td>No</td>\n",
       "      <td>No</td>\n",
       "      <td>No</td>\n",
       "      <td>No</td>\n",
       "    </tr>\n",
       "    <tr>\n",
       "      <th>2</th>\n",
       "      <td>2020/11/20</td>\n",
       "      <td>2020/11/26</td>\n",
       "      <td>NaN</td>\n",
       "      <td>NaN</td>\n",
       "      <td>Probable Case</td>\n",
       "      <td>Female</td>\n",
       "      <td>30 - 39 Years</td>\n",
       "      <td>Unknown</td>\n",
       "      <td>No</td>\n",
       "      <td>Unknown</td>\n",
       "      <td>No</td>\n",
       "      <td>Missing</td>\n",
       "    </tr>\n",
       "    <tr>\n",
       "      <th>3</th>\n",
       "      <td>2020/12/17</td>\n",
       "      <td>NaN</td>\n",
       "      <td>NaN</td>\n",
       "      <td>NaN</td>\n",
       "      <td>Laboratory-confirmed case</td>\n",
       "      <td>Male</td>\n",
       "      <td>10 - 19 Years</td>\n",
       "      <td>Unknown</td>\n",
       "      <td>Unknown</td>\n",
       "      <td>Missing</td>\n",
       "      <td>No</td>\n",
       "      <td>Missing</td>\n",
       "    </tr>\n",
       "    <tr>\n",
       "      <th>4</th>\n",
       "      <td>2020/04/24</td>\n",
       "      <td>2020/05/04</td>\n",
       "      <td>NaN</td>\n",
       "      <td>2020/04/24</td>\n",
       "      <td>Laboratory-confirmed case</td>\n",
       "      <td>Female</td>\n",
       "      <td>50 - 59 Years</td>\n",
       "      <td>White, Non-Hispanic</td>\n",
       "      <td>No</td>\n",
       "      <td>Unknown</td>\n",
       "      <td>No</td>\n",
       "      <td>Yes</td>\n",
       "    </tr>\n",
       "  </tbody>\n",
       "</table>\n",
       "</div>"
      ],
      "text/plain": [
       "  cdc_case_earliest_dt cdc_report_dt pos_spec_dt    onset_dt  \\\n",
       "0           2020/12/30    2020/12/30  2021/01/02  2020/12/30   \n",
       "1           2020/12/21    2020/12/29  2020/12/22  2020/12/21   \n",
       "2           2020/11/20    2020/11/26         NaN         NaN   \n",
       "3           2020/12/17           NaN         NaN         NaN   \n",
       "4           2020/04/24    2020/05/04         NaN  2020/04/24   \n",
       "\n",
       "              current_status     sex      age_group race_ethnicity_combined  \\\n",
       "0  Laboratory-confirmed case    Male  40 - 49 Years     White, Non-Hispanic   \n",
       "1  Laboratory-confirmed case    Male  60 - 69 Years     White, Non-Hispanic   \n",
       "2              Probable Case  Female  30 - 39 Years                 Unknown   \n",
       "3  Laboratory-confirmed case    Male  10 - 19 Years                 Unknown   \n",
       "4  Laboratory-confirmed case  Female  50 - 59 Years     White, Non-Hispanic   \n",
       "\n",
       "   hosp_yn   icu_yn death_yn medcond_yn  \n",
       "0       No       No       No        Yes  \n",
       "1       No       No       No         No  \n",
       "2       No  Unknown       No    Missing  \n",
       "3  Unknown  Missing       No    Missing  \n",
       "4       No  Unknown       No        Yes  "
      ]
     },
     "execution_count": 4,
     "metadata": {},
     "output_type": "execute_result"
    }
   ],
   "source": [
    "#printing first 5 rows in the dataset\n",
    "df.head(5)"
   ]
  },
  {
   "cell_type": "markdown",
   "id": "baking-cambodia",
   "metadata": {},
   "source": [
    "5 rows × 12 columns\n",
    "\n"
   ]
  },
  {
   "cell_type": "code",
   "execution_count": 5,
   "id": "prospective-belly",
   "metadata": {},
   "outputs": [
    {
     "data": {
      "text/html": [
       "<div>\n",
       "<style scoped>\n",
       "    .dataframe tbody tr th:only-of-type {\n",
       "        vertical-align: middle;\n",
       "    }\n",
       "\n",
       "    .dataframe tbody tr th {\n",
       "        vertical-align: top;\n",
       "    }\n",
       "\n",
       "    .dataframe thead th {\n",
       "        text-align: right;\n",
       "    }\n",
       "</style>\n",
       "<table border=\"1\" class=\"dataframe\">\n",
       "  <thead>\n",
       "    <tr style=\"text-align: right;\">\n",
       "      <th></th>\n",
       "      <th>cdc_case_earliest_dt</th>\n",
       "      <th>cdc_report_dt</th>\n",
       "      <th>pos_spec_dt</th>\n",
       "      <th>onset_dt</th>\n",
       "      <th>current_status</th>\n",
       "      <th>sex</th>\n",
       "      <th>age_group</th>\n",
       "      <th>race_ethnicity_combined</th>\n",
       "      <th>hosp_yn</th>\n",
       "      <th>icu_yn</th>\n",
       "      <th>death_yn</th>\n",
       "      <th>medcond_yn</th>\n",
       "    </tr>\n",
       "  </thead>\n",
       "  <tbody>\n",
       "    <tr>\n",
       "      <th>9995</th>\n",
       "      <td>2020/11/01</td>\n",
       "      <td>2020/11/01</td>\n",
       "      <td>2020/11/01</td>\n",
       "      <td>2020/11/01</td>\n",
       "      <td>Laboratory-confirmed case</td>\n",
       "      <td>Male</td>\n",
       "      <td>30 - 39 Years</td>\n",
       "      <td>White, Non-Hispanic</td>\n",
       "      <td>No</td>\n",
       "      <td>Unknown</td>\n",
       "      <td>No</td>\n",
       "      <td>No</td>\n",
       "    </tr>\n",
       "    <tr>\n",
       "      <th>9996</th>\n",
       "      <td>2020/10/04</td>\n",
       "      <td>2020/10/13</td>\n",
       "      <td>NaN</td>\n",
       "      <td>2020/10/04</td>\n",
       "      <td>Laboratory-confirmed case</td>\n",
       "      <td>Male</td>\n",
       "      <td>60 - 69 Years</td>\n",
       "      <td>White, Non-Hispanic</td>\n",
       "      <td>No</td>\n",
       "      <td>No</td>\n",
       "      <td>No</td>\n",
       "      <td>Yes</td>\n",
       "    </tr>\n",
       "    <tr>\n",
       "      <th>9997</th>\n",
       "      <td>2020/05/26</td>\n",
       "      <td>2020/05/28</td>\n",
       "      <td>NaN</td>\n",
       "      <td>2020/05/28</td>\n",
       "      <td>Laboratory-confirmed case</td>\n",
       "      <td>Male</td>\n",
       "      <td>30 - 39 Years</td>\n",
       "      <td>Unknown</td>\n",
       "      <td>Unknown</td>\n",
       "      <td>Missing</td>\n",
       "      <td>No</td>\n",
       "      <td>Missing</td>\n",
       "    </tr>\n",
       "    <tr>\n",
       "      <th>9998</th>\n",
       "      <td>2020/08/28</td>\n",
       "      <td>2020/09/21</td>\n",
       "      <td>NaN</td>\n",
       "      <td>2020/08/28</td>\n",
       "      <td>Probable Case</td>\n",
       "      <td>Female</td>\n",
       "      <td>30 - 39 Years</td>\n",
       "      <td>Black, Non-Hispanic</td>\n",
       "      <td>No</td>\n",
       "      <td>Missing</td>\n",
       "      <td>No</td>\n",
       "      <td>Missing</td>\n",
       "    </tr>\n",
       "    <tr>\n",
       "      <th>9999</th>\n",
       "      <td>2020/12/11</td>\n",
       "      <td>2020/12/11</td>\n",
       "      <td>NaN</td>\n",
       "      <td>2020/12/13</td>\n",
       "      <td>Laboratory-confirmed case</td>\n",
       "      <td>Male</td>\n",
       "      <td>70 - 79 Years</td>\n",
       "      <td>White, Non-Hispanic</td>\n",
       "      <td>No</td>\n",
       "      <td>Missing</td>\n",
       "      <td>No</td>\n",
       "      <td>Missing</td>\n",
       "    </tr>\n",
       "  </tbody>\n",
       "</table>\n",
       "</div>"
      ],
      "text/plain": [
       "     cdc_case_earliest_dt cdc_report_dt pos_spec_dt    onset_dt  \\\n",
       "9995           2020/11/01    2020/11/01  2020/11/01  2020/11/01   \n",
       "9996           2020/10/04    2020/10/13         NaN  2020/10/04   \n",
       "9997           2020/05/26    2020/05/28         NaN  2020/05/28   \n",
       "9998           2020/08/28    2020/09/21         NaN  2020/08/28   \n",
       "9999           2020/12/11    2020/12/11         NaN  2020/12/13   \n",
       "\n",
       "                 current_status     sex      age_group  \\\n",
       "9995  Laboratory-confirmed case    Male  30 - 39 Years   \n",
       "9996  Laboratory-confirmed case    Male  60 - 69 Years   \n",
       "9997  Laboratory-confirmed case    Male  30 - 39 Years   \n",
       "9998              Probable Case  Female  30 - 39 Years   \n",
       "9999  Laboratory-confirmed case    Male  70 - 79 Years   \n",
       "\n",
       "     race_ethnicity_combined  hosp_yn   icu_yn death_yn medcond_yn  \n",
       "9995     White, Non-Hispanic       No  Unknown       No         No  \n",
       "9996     White, Non-Hispanic       No       No       No        Yes  \n",
       "9997                 Unknown  Unknown  Missing       No    Missing  \n",
       "9998     Black, Non-Hispanic       No  Missing       No    Missing  \n",
       "9999     White, Non-Hispanic       No  Missing       No    Missing  "
      ]
     },
     "execution_count": 5,
     "metadata": {},
     "output_type": "execute_result"
    }
   ],
   "source": [
    "#printing last 5 rows in the dataset\n",
    "df.tail(5)"
   ]
  },
  {
   "cell_type": "markdown",
   "id": "later-breath",
   "metadata": {},
   "source": [
    "5 rows × 12 columns\n"
   ]
  },
  {
   "cell_type": "markdown",
   "id": "statistical-plymouth",
   "metadata": {},
   "source": [
    "# Categorical Features"
   ]
  },
  {
   "cell_type": "markdown",
   "id": "sacred-subsection",
   "metadata": {},
   "source": [
    "<b>Converting features to appropriate data types <b>"
   ]
  },
  {
   "cell_type": "code",
   "execution_count": 6,
   "id": "norman-skill",
   "metadata": {},
   "outputs": [
    {
     "data": {
      "text/plain": [
       "cdc_case_earliest_dt       object\n",
       "cdc_report_dt              object\n",
       "pos_spec_dt                object\n",
       "onset_dt                   object\n",
       "current_status             object\n",
       "sex                        object\n",
       "age_group                  object\n",
       "race_ethnicity_combined    object\n",
       "hosp_yn                    object\n",
       "icu_yn                     object\n",
       "death_yn                   object\n",
       "medcond_yn                 object\n",
       "dtype: object"
      ]
     },
     "execution_count": 6,
     "metadata": {},
     "output_type": "execute_result"
    }
   ],
   "source": [
    "#checking datatypes of the features\n",
    "df.dtypes"
   ]
  },
  {
   "cell_type": "code",
   "execution_count": 7,
   "id": "liked-devil",
   "metadata": {},
   "outputs": [],
   "source": [
    "#changing the categorical columns to category type\n",
    "df['current_status'] = df['current_status'].astype('category')\n",
    "df['sex'] = df['sex'].astype('category')\n",
    "df['age_group'] = df['age_group'].astype('category')\n",
    "df['race_ethnicity_combined'] = df['race_ethnicity_combined'].astype('category')\n",
    "df['hosp_yn'] = df['hosp_yn'].astype('category')\n",
    "df['icu_yn'] = df['icu_yn'].astype('category')\n",
    "df['death_yn'] = df['death_yn'].astype('category')\n",
    "df['medcond_yn'] = df['medcond_yn'].astype('category')"
   ]
  },
  {
   "cell_type": "markdown",
   "id": "cutting-graphic",
   "metadata": {},
   "source": [
    "Changing some of the features to categorical features"
   ]
  },
  {
   "cell_type": "code",
   "execution_count": 8,
   "id": "worldwide-background",
   "metadata": {},
   "outputs": [],
   "source": [
    "#changing the slash so I can convert the format of the columns to datetime\n",
    "df['cdc_case_earliest_dt'] = df['cdc_case_earliest_dt'].str.replace('/', '')\n",
    "df['cdc_report_dt'] = df['cdc_report_dt'].str.replace('/', '')\n",
    "df['pos_spec_dt'] = df['pos_spec_dt'].str.replace('/', '')\n",
    "df['onset_dt'] = df['onset_dt'].str.replace('/', '')"
   ]
  },
  {
   "cell_type": "code",
   "execution_count": 9,
   "id": "sized-parker",
   "metadata": {},
   "outputs": [],
   "source": [
    "#changing the dates columns format to datetime \n",
    "df['cdc_case_earliest_dt'] = pd.to_datetime(df['cdc_case_earliest_dt'], format='%Y%m%d')\n",
    "df['cdc_report_dt'] = pd.to_datetime(df['cdc_report_dt'], format='%Y%m%d')\n",
    "df['pos_spec_dt'] = pd.to_datetime(df['pos_spec_dt'], format='%Y%m%d')\n",
    "df['onset_dt'] = pd.to_datetime(df['onset_dt'], format='%Y%m%d')"
   ]
  },
  {
   "cell_type": "markdown",
   "id": "lyric-participant",
   "metadata": {},
   "source": [
    "Changing the date columns to datetime types"
   ]
  },
  {
   "cell_type": "code",
   "execution_count": 10,
   "id": "composed-collaboration",
   "metadata": {},
   "outputs": [
    {
     "data": {
      "text/plain": [
       "cdc_case_earliest_dt       datetime64[ns]\n",
       "cdc_report_dt              datetime64[ns]\n",
       "pos_spec_dt                datetime64[ns]\n",
       "onset_dt                   datetime64[ns]\n",
       "current_status                   category\n",
       "sex                              category\n",
       "age_group                        category\n",
       "race_ethnicity_combined          category\n",
       "hosp_yn                          category\n",
       "icu_yn                           category\n",
       "death_yn                         category\n",
       "medcond_yn                       category\n",
       "dtype: object"
      ]
     },
     "execution_count": 10,
     "metadata": {},
     "output_type": "execute_result"
    }
   ],
   "source": [
    "#checking if datatypes has converted as expected\n",
    "df.dtypes"
   ]
  },
  {
   "cell_type": "markdown",
   "id": "decreased-spare",
   "metadata": {},
   "source": [
    "#### Having examined the dataset, four of the features are continous while the rest categorical\n",
    "- cdc_case_earliest_dt, cdc_report_dt, pos_spec_dt and onset_dt are all dates, therefor they go under the continous category\n",
    "- the rest of the features are categorical because they contain a finite set of possible values representing different meaning. For example, ethnicity are grouped into several groups that has different representation. "
   ]
  },
  {
   "cell_type": "markdown",
   "id": "going-family",
   "metadata": {},
   "source": [
    "<b>Checking for duplicates rows and columns<b>"
   ]
  },
  {
   "cell_type": "code",
   "execution_count": 11,
   "id": "exempt-aggregate",
   "metadata": {},
   "outputs": [
    {
     "name": "stdout",
     "output_type": "stream",
     "text": [
      "Number of duplicate (excluding first) rows in the table is:  438\n"
     ]
    }
   ],
   "source": [
    "#checking how many duplicate rows there is in the dataaset.\n",
    "print('Number of duplicate (excluding first) rows in the table is: ', df.duplicated().sum())"
   ]
  },
  {
   "cell_type": "code",
   "execution_count": 12,
   "id": "weird-parliament",
   "metadata": {},
   "outputs": [
    {
     "name": "stdout",
     "output_type": "stream",
     "text": [
      "Number of duplicate (excluding first) rows in the table is:  438\n",
      "Number of duplicate rows (including first) in the table is: 790\n"
     ]
    }
   ],
   "source": [
    "#Print the number of duplicates, without the original rows that were duplicated\n",
    "print('Number of duplicate (excluding first) rows in the table is: ', df.duplicated().sum())\n",
    "\n",
    "# Check for duplicate rows. \n",
    "# Use \"keep=False\" to mark all duplicates as true, including the original rows that were duplicated.\n",
    "print('Number of duplicate rows (including first) in the table is:', df[df.duplicated(keep=False)].shape[0])"
   ]
  },
  {
   "cell_type": "code",
   "execution_count": null,
   "id": "portuguese-lafayette",
   "metadata": {},
   "outputs": [],
   "source": []
  },
  {
   "cell_type": "code",
   "execution_count": 13,
   "id": "classified-barbados",
   "metadata": {},
   "outputs": [
    {
     "name": "stdout",
     "output_type": "stream",
     "text": [
      "Number of duplicate (excluding first) columns in the table is:  0\n",
      "Number of duplicate (including first) columns in the table is:  0\n"
     ]
    }
   ],
   "source": [
    "# Check for duplicate columns\n",
    "#First transpose the df so columns become rows, then apply the same check as above\n",
    "dfT = df.T\n",
    "print(\"Number of duplicate (excluding first) columns in the table is: \", dfT.duplicated().sum())\n",
    "print(\"Number of duplicate (including first) columns in the table is: \",  dfT[dfT.duplicated(keep=False)].shape[0])"
   ]
  },
  {
   "cell_type": "markdown",
   "id": "global-reliance",
   "metadata": {},
   "source": [
    "#### Observation of duplicates\n",
    "\n",
    "- Rows:  From this observation we can see that there are \"duplicate\" rows  in this dataset, and no duplicate columns. However, since the there is no specific ID or Primary key for each row, we can assume that these instances of \"duplicates\" rows are actually unique people. For that reason I decide to keep these rows and work with this data further.\n",
    "- Columns: There are no duplicate columns. We will also check the descriptive stats to make sure we did not miss any duplicated columns."
   ]
  },
  {
   "cell_type": "markdown",
   "id": "oriented-premiere",
   "metadata": {},
   "source": [
    "<b>Checking null values and missing values in the dataset<b>\n",
    "   "
   ]
  },
  {
   "cell_type": "code",
   "execution_count": 14,
   "id": "superior-capability",
   "metadata": {},
   "outputs": [
    {
     "name": "stdout",
     "output_type": "stream",
     "text": [
      "<class 'pandas.core.frame.DataFrame'>\n",
      "RangeIndex: 10000 entries, 0 to 9999\n",
      "Data columns (total 12 columns):\n",
      " #   Column                   Non-Null Count  Dtype         \n",
      "---  ------                   --------------  -----         \n",
      " 0   cdc_case_earliest_dt     10000 non-null  datetime64[ns]\n",
      " 1   cdc_report_dt            7673 non-null   datetime64[ns]\n",
      " 2   pos_spec_dt              2837 non-null   datetime64[ns]\n",
      " 3   onset_dt                 5064 non-null   datetime64[ns]\n",
      " 4   current_status           10000 non-null  category      \n",
      " 5   sex                      10000 non-null  category      \n",
      " 6   age_group                10000 non-null  category      \n",
      " 7   race_ethnicity_combined  10000 non-null  category      \n",
      " 8   hosp_yn                  10000 non-null  category      \n",
      " 9   icu_yn                   10000 non-null  category      \n",
      " 10  death_yn                 10000 non-null  category      \n",
      " 11  medcond_yn               10000 non-null  category      \n",
      "dtypes: category(8), datetime64[ns](4)\n",
      "memory usage: 392.5 KB\n"
     ]
    }
   ],
   "source": [
    "#checking how many null values I have in each of the columns. I see that there are many null values in the date columns excluding cdc_case_earliest\n",
    "df.info()"
   ]
  },
  {
   "cell_type": "markdown",
   "id": "signed-christmas",
   "metadata": {},
   "source": [
    "### Null-value observation\n",
    "\n",
    "By this visualisation I can we can see that the following features has a big portion of the data as null values:\n",
    "- cdc_report_dt \n",
    "- pos_spec_dt\n",
    "- pos_spec_dt\n",
    "- onset_dt\n"
   ]
  },
  {
   "cell_type": "code",
   "execution_count": 15,
   "id": "sporting-arena",
   "metadata": {},
   "outputs": [
    {
     "data": {
      "text/html": [
       "<div>\n",
       "<style scoped>\n",
       "    .dataframe tbody tr th:only-of-type {\n",
       "        vertical-align: middle;\n",
       "    }\n",
       "\n",
       "    .dataframe tbody tr th {\n",
       "        vertical-align: top;\n",
       "    }\n",
       "\n",
       "    .dataframe thead th {\n",
       "        text-align: right;\n",
       "    }\n",
       "</style>\n",
       "<table border=\"1\" class=\"dataframe\">\n",
       "  <thead>\n",
       "    <tr style=\"text-align: right;\">\n",
       "      <th></th>\n",
       "      <th>current_status</th>\n",
       "      <th>sex</th>\n",
       "      <th>age_group</th>\n",
       "      <th>race_ethnicity_combined</th>\n",
       "      <th>hosp_yn</th>\n",
       "      <th>icu_yn</th>\n",
       "      <th>death_yn</th>\n",
       "      <th>medcond_yn</th>\n",
       "    </tr>\n",
       "  </thead>\n",
       "  <tbody>\n",
       "    <tr>\n",
       "      <th>0</th>\n",
       "      <td>Laboratory-confirmed case</td>\n",
       "      <td>Male</td>\n",
       "      <td>40 - 49 Years</td>\n",
       "      <td>White, Non-Hispanic</td>\n",
       "      <td>No</td>\n",
       "      <td>No</td>\n",
       "      <td>No</td>\n",
       "      <td>Yes</td>\n",
       "    </tr>\n",
       "    <tr>\n",
       "      <th>1</th>\n",
       "      <td>Laboratory-confirmed case</td>\n",
       "      <td>Male</td>\n",
       "      <td>60 - 69 Years</td>\n",
       "      <td>White, Non-Hispanic</td>\n",
       "      <td>No</td>\n",
       "      <td>No</td>\n",
       "      <td>No</td>\n",
       "      <td>No</td>\n",
       "    </tr>\n",
       "    <tr>\n",
       "      <th>2</th>\n",
       "      <td>Probable Case</td>\n",
       "      <td>Female</td>\n",
       "      <td>30 - 39 Years</td>\n",
       "      <td>Unknown</td>\n",
       "      <td>No</td>\n",
       "      <td>Unknown</td>\n",
       "      <td>No</td>\n",
       "      <td>Missing</td>\n",
       "    </tr>\n",
       "    <tr>\n",
       "      <th>3</th>\n",
       "      <td>Laboratory-confirmed case</td>\n",
       "      <td>Male</td>\n",
       "      <td>10 - 19 Years</td>\n",
       "      <td>Unknown</td>\n",
       "      <td>Unknown</td>\n",
       "      <td>Missing</td>\n",
       "      <td>No</td>\n",
       "      <td>Missing</td>\n",
       "    </tr>\n",
       "    <tr>\n",
       "      <th>4</th>\n",
       "      <td>Laboratory-confirmed case</td>\n",
       "      <td>Female</td>\n",
       "      <td>50 - 59 Years</td>\n",
       "      <td>White, Non-Hispanic</td>\n",
       "      <td>No</td>\n",
       "      <td>Unknown</td>\n",
       "      <td>No</td>\n",
       "      <td>Yes</td>\n",
       "    </tr>\n",
       "  </tbody>\n",
       "</table>\n",
       "</div>"
      ],
      "text/plain": [
       "              current_status     sex      age_group race_ethnicity_combined  \\\n",
       "0  Laboratory-confirmed case    Male  40 - 49 Years     White, Non-Hispanic   \n",
       "1  Laboratory-confirmed case    Male  60 - 69 Years     White, Non-Hispanic   \n",
       "2              Probable Case  Female  30 - 39 Years                 Unknown   \n",
       "3  Laboratory-confirmed case    Male  10 - 19 Years                 Unknown   \n",
       "4  Laboratory-confirmed case  Female  50 - 59 Years     White, Non-Hispanic   \n",
       "\n",
       "   hosp_yn   icu_yn death_yn medcond_yn  \n",
       "0       No       No       No        Yes  \n",
       "1       No       No       No         No  \n",
       "2       No  Unknown       No    Missing  \n",
       "3  Unknown  Missing       No    Missing  \n",
       "4       No  Unknown       No        Yes  "
      ]
     },
     "execution_count": 15,
     "metadata": {},
     "output_type": "execute_result"
    }
   ],
   "source": [
    "#Look at the categorical features only\n",
    "category_columns = df.select_dtypes(['category']).columns\n",
    "df[category_columns].head()"
   ]
  },
  {
   "cell_type": "code",
   "execution_count": 16,
   "id": "facial-translation",
   "metadata": {},
   "outputs": [
    {
     "data": {
      "text/html": [
       "<div>\n",
       "<style scoped>\n",
       "    .dataframe tbody tr th:only-of-type {\n",
       "        vertical-align: middle;\n",
       "    }\n",
       "\n",
       "    .dataframe tbody tr th {\n",
       "        vertical-align: top;\n",
       "    }\n",
       "\n",
       "    .dataframe thead th {\n",
       "        text-align: right;\n",
       "    }\n",
       "</style>\n",
       "<table border=\"1\" class=\"dataframe\">\n",
       "  <thead>\n",
       "    <tr style=\"text-align: right;\">\n",
       "      <th></th>\n",
       "      <th>count</th>\n",
       "      <th>unique</th>\n",
       "      <th>top</th>\n",
       "      <th>freq</th>\n",
       "    </tr>\n",
       "  </thead>\n",
       "  <tbody>\n",
       "    <tr>\n",
       "      <th>current_status</th>\n",
       "      <td>10000</td>\n",
       "      <td>2</td>\n",
       "      <td>Laboratory-confirmed case</td>\n",
       "      <td>9307</td>\n",
       "    </tr>\n",
       "    <tr>\n",
       "      <th>sex</th>\n",
       "      <td>10000</td>\n",
       "      <td>4</td>\n",
       "      <td>Female</td>\n",
       "      <td>5213</td>\n",
       "    </tr>\n",
       "    <tr>\n",
       "      <th>age_group</th>\n",
       "      <td>10000</td>\n",
       "      <td>10</td>\n",
       "      <td>20 - 29 Years</td>\n",
       "      <td>1846</td>\n",
       "    </tr>\n",
       "    <tr>\n",
       "      <th>race_ethnicity_combined</th>\n",
       "      <td>10000</td>\n",
       "      <td>9</td>\n",
       "      <td>Unknown</td>\n",
       "      <td>4030</td>\n",
       "    </tr>\n",
       "    <tr>\n",
       "      <th>hosp_yn</th>\n",
       "      <td>10000</td>\n",
       "      <td>4</td>\n",
       "      <td>No</td>\n",
       "      <td>5221</td>\n",
       "    </tr>\n",
       "    <tr>\n",
       "      <th>icu_yn</th>\n",
       "      <td>10000</td>\n",
       "      <td>4</td>\n",
       "      <td>Missing</td>\n",
       "      <td>7637</td>\n",
       "    </tr>\n",
       "    <tr>\n",
       "      <th>death_yn</th>\n",
       "      <td>10000</td>\n",
       "      <td>2</td>\n",
       "      <td>No</td>\n",
       "      <td>9684</td>\n",
       "    </tr>\n",
       "    <tr>\n",
       "      <th>medcond_yn</th>\n",
       "      <td>10000</td>\n",
       "      <td>4</td>\n",
       "      <td>Missing</td>\n",
       "      <td>7431</td>\n",
       "    </tr>\n",
       "  </tbody>\n",
       "</table>\n",
       "</div>"
      ],
      "text/plain": [
       "                         count unique                        top  freq\n",
       "current_status           10000      2  Laboratory-confirmed case  9307\n",
       "sex                      10000      4                     Female  5213\n",
       "age_group                10000     10              20 - 29 Years  1846\n",
       "race_ethnicity_combined  10000      9                    Unknown  4030\n",
       "hosp_yn                  10000      4                         No  5221\n",
       "icu_yn                   10000      4                    Missing  7637\n",
       "death_yn                 10000      2                         No  9684\n",
       "medcond_yn               10000      4                    Missing  7431"
      ]
     },
     "execution_count": 16,
     "metadata": {},
     "output_type": "execute_result"
    }
   ],
   "source": [
    "#Printing table with categorical statistics\n",
    "df[category_columns].describe().T"
   ]
  },
  {
   "cell_type": "markdown",
   "id": "champion-trustee",
   "metadata": {},
   "source": [
    "**Categorical Data** - Reviewing the categorical data below we can see all unique values > 1\n",
    "- *current_status* has 2 unique values\n",
    "- *sex* has 4 unique values\n",
    "- *age_group* has 7 unique values\n",
    "- *race_ethnicity_combined* has 9 unique values\n",
    "- *hosp_yn* has 4 unique values\n",
    "- *icu_yn* has 4 unique values\n",
    "- *death_yn* has 2 unique values\n",
    "- *medcond_yn* has 4 unique values"
   ]
  },
  {
   "cell_type": "code",
   "execution_count": 17,
   "id": "central-tuesday",
   "metadata": {},
   "outputs": [
    {
     "name": "stdout",
     "output_type": "stream",
     "text": [
      "\n",
      "current_status\n",
      "Laboratory-confirmed case    9307\n",
      "Probable Case                 693\n",
      "Name: current_status, dtype: int64\n",
      "\n",
      "sex\n",
      "Female     5213\n",
      "Male       4706\n",
      "Unknown      66\n",
      "Missing      15\n",
      "Name: sex, dtype: int64\n",
      "\n",
      "age_group\n",
      "20 - 29 Years    1846\n",
      "30 - 39 Years    1650\n",
      "40 - 49 Years    1469\n",
      "50 - 59 Years    1400\n",
      "60 - 69 Years    1072\n",
      "10 - 19 Years    1055\n",
      "70 - 79 Years     580\n",
      "80+ Years         477\n",
      "0 - 9 Years       440\n",
      "Missing            11\n",
      "Name: age_group, dtype: int64\n",
      "\n",
      "race_ethnicity_combined\n",
      "Unknown                                                 4030\n",
      "White, Non-Hispanic                                     3344\n",
      "Hispanic/Latino                                         1036\n",
      "Black, Non-Hispanic                                      694\n",
      "Multiple/Other, Non-Hispanic                             476\n",
      "Asian, Non-Hispanic                                      249\n",
      "Missing                                                   99\n",
      "American Indian/Alaska Native, Non-Hispanic               60\n",
      "Native Hawaiian/Other Pacific Islander, Non-Hispanic      12\n",
      "Name: race_ethnicity_combined, dtype: int64\n",
      "\n",
      "hosp_yn\n",
      "No         5221\n",
      "Missing    2333\n",
      "Unknown    1792\n",
      "Yes         654\n",
      "Name: hosp_yn, dtype: int64\n",
      "\n",
      "icu_yn\n",
      "Missing    7637\n",
      "Unknown    1300\n",
      "No          981\n",
      "Yes          82\n",
      "Name: icu_yn, dtype: int64\n",
      "\n",
      "death_yn\n",
      "No     9684\n",
      "Yes     316\n",
      "Name: death_yn, dtype: int64\n",
      "\n",
      "medcond_yn\n",
      "Missing    7431\n",
      "No          911\n",
      "Yes         888\n",
      "Unknown     770\n",
      "Name: medcond_yn, dtype: int64\n"
     ]
    }
   ],
   "source": [
    "# Looking at the values taken by each categorical feature, including the NaN values.\n",
    "for column in category_columns:\n",
    "    print(\"\\n\" + column)\n",
    "    print(df[column].value_counts(dropna=False))"
   ]
  },
  {
   "cell_type": "markdown",
   "id": "facial-maple",
   "metadata": {},
   "source": [
    "One can see that there is a lot of unknown and missing data in the categorical features. "
   ]
  },
  {
   "cell_type": "code",
   "execution_count": 18,
   "id": "configured-officer",
   "metadata": {},
   "outputs": [
    {
     "name": "stdout",
     "output_type": "stream",
     "text": [
      "\n",
      "current_status\n",
      "Laboratory-confirmed case    0.9307\n",
      "Probable Case                0.0693\n",
      "Name: current_status, dtype: float64\n",
      "\n",
      "sex\n",
      "Female     0.5213\n",
      "Male       0.4706\n",
      "Unknown    0.0066\n",
      "Missing    0.0015\n",
      "Name: sex, dtype: float64\n",
      "\n",
      "age_group\n",
      "20 - 29 Years    0.1846\n",
      "30 - 39 Years    0.1650\n",
      "40 - 49 Years    0.1469\n",
      "50 - 59 Years    0.1400\n",
      "60 - 69 Years    0.1072\n",
      "10 - 19 Years    0.1055\n",
      "70 - 79 Years    0.0580\n",
      "80+ Years        0.0477\n",
      "0 - 9 Years      0.0440\n",
      "Missing          0.0011\n",
      "Name: age_group, dtype: float64\n",
      "\n",
      "race_ethnicity_combined\n",
      "Unknown                                                 0.4030\n",
      "White, Non-Hispanic                                     0.3344\n",
      "Hispanic/Latino                                         0.1036\n",
      "Black, Non-Hispanic                                     0.0694\n",
      "Multiple/Other, Non-Hispanic                            0.0476\n",
      "Asian, Non-Hispanic                                     0.0249\n",
      "Missing                                                 0.0099\n",
      "American Indian/Alaska Native, Non-Hispanic             0.0060\n",
      "Native Hawaiian/Other Pacific Islander, Non-Hispanic    0.0012\n",
      "Name: race_ethnicity_combined, dtype: float64\n",
      "\n",
      "hosp_yn\n",
      "No         0.5221\n",
      "Missing    0.2333\n",
      "Unknown    0.1792\n",
      "Yes        0.0654\n",
      "Name: hosp_yn, dtype: float64\n",
      "\n",
      "icu_yn\n",
      "Missing    0.7637\n",
      "Unknown    0.1300\n",
      "No         0.0981\n",
      "Yes        0.0082\n",
      "Name: icu_yn, dtype: float64\n",
      "\n",
      "death_yn\n",
      "No     0.9684\n",
      "Yes    0.0316\n",
      "Name: death_yn, dtype: float64\n",
      "\n",
      "medcond_yn\n",
      "Missing    0.7431\n",
      "No         0.0911\n",
      "Yes        0.0888\n",
      "Unknown    0.0770\n",
      "Name: medcond_yn, dtype: float64\n"
     ]
    }
   ],
   "source": [
    "# Look at the values taken by each categorical feature, as a proportion\n",
    "for column in category_columns:\n",
    "    print(\"\\n\" + column)\n",
    "    print(df[column].value_counts(normalize=True))"
   ]
  },
  {
   "cell_type": "markdown",
   "id": "cross-startup",
   "metadata": {},
   "source": [
    "### Observation \n",
    "\n",
    "Interesting observation from the overview above is that 96% of the dataset are confirmed cases. The bigger portion of the confirmed cases are women that accounts for 52% the dataset, however we do have some missing values for this column. \n",
    "18% of the cases are in the age-group between 20-29 years which is the biggest portion of the dataset.\n",
    "\n",
    "Furthermore, 52% of the cases were not hospitilized, but 23% is in the category unknown. \n",
    "\n",
    "The biggest portion of the dataset is also missing for cases that were ICU admitted, however since most cases were not admitted to the hospital, we can also assume that they were not admitted to ICU. \n",
    "\n",
    "96% of the cases did not die.\n",
    "\n",
    "At last, there is 74% missing data for whether the case had any medical conditions. Second most value was 9,1% which did not have any medical conditions."
   ]
  },
  {
   "cell_type": "code",
   "execution_count": 19,
   "id": "opening-gross",
   "metadata": {},
   "outputs": [
    {
     "data": {
      "text/html": [
       "<div>\n",
       "<style scoped>\n",
       "    .dataframe tbody tr th:only-of-type {\n",
       "        vertical-align: middle;\n",
       "    }\n",
       "\n",
       "    .dataframe tbody tr th {\n",
       "        vertical-align: top;\n",
       "    }\n",
       "\n",
       "    .dataframe thead th {\n",
       "        text-align: right;\n",
       "    }\n",
       "</style>\n",
       "<table border=\"1\" class=\"dataframe\">\n",
       "  <thead>\n",
       "    <tr style=\"text-align: right;\">\n",
       "      <th></th>\n",
       "      <th>count</th>\n",
       "      <th>unique</th>\n",
       "      <th>top</th>\n",
       "      <th>freq</th>\n",
       "    </tr>\n",
       "  </thead>\n",
       "  <tbody>\n",
       "    <tr>\n",
       "      <th>current_status</th>\n",
       "      <td>10000</td>\n",
       "      <td>2</td>\n",
       "      <td>Laboratory-confirmed case</td>\n",
       "      <td>9307</td>\n",
       "    </tr>\n",
       "    <tr>\n",
       "      <th>sex</th>\n",
       "      <td>10000</td>\n",
       "      <td>4</td>\n",
       "      <td>Female</td>\n",
       "      <td>5213</td>\n",
       "    </tr>\n",
       "    <tr>\n",
       "      <th>age_group</th>\n",
       "      <td>10000</td>\n",
       "      <td>10</td>\n",
       "      <td>20 - 29 Years</td>\n",
       "      <td>1846</td>\n",
       "    </tr>\n",
       "    <tr>\n",
       "      <th>race_ethnicity_combined</th>\n",
       "      <td>10000</td>\n",
       "      <td>9</td>\n",
       "      <td>Unknown</td>\n",
       "      <td>4030</td>\n",
       "    </tr>\n",
       "    <tr>\n",
       "      <th>hosp_yn</th>\n",
       "      <td>10000</td>\n",
       "      <td>4</td>\n",
       "      <td>No</td>\n",
       "      <td>5221</td>\n",
       "    </tr>\n",
       "    <tr>\n",
       "      <th>icu_yn</th>\n",
       "      <td>10000</td>\n",
       "      <td>4</td>\n",
       "      <td>Missing</td>\n",
       "      <td>7637</td>\n",
       "    </tr>\n",
       "    <tr>\n",
       "      <th>death_yn</th>\n",
       "      <td>10000</td>\n",
       "      <td>2</td>\n",
       "      <td>No</td>\n",
       "      <td>9684</td>\n",
       "    </tr>\n",
       "    <tr>\n",
       "      <th>medcond_yn</th>\n",
       "      <td>10000</td>\n",
       "      <td>4</td>\n",
       "      <td>Missing</td>\n",
       "      <td>7431</td>\n",
       "    </tr>\n",
       "  </tbody>\n",
       "</table>\n",
       "</div>"
      ],
      "text/plain": [
       "                         count unique                        top  freq\n",
       "current_status           10000      2  Laboratory-confirmed case  9307\n",
       "sex                      10000      4                     Female  5213\n",
       "age_group                10000     10              20 - 29 Years  1846\n",
       "race_ethnicity_combined  10000      9                    Unknown  4030\n",
       "hosp_yn                  10000      4                         No  5221\n",
       "icu_yn                   10000      4                    Missing  7637\n",
       "death_yn                 10000      2                         No  9684\n",
       "medcond_yn               10000      4                    Missing  7431"
      ]
     },
     "execution_count": 19,
     "metadata": {},
     "output_type": "execute_result"
    }
   ],
   "source": [
    "# Look once again at the summary stats table for categorical features\n",
    "# Care is needed with .describe() for categorical features, it excludes the NaN values for features \n",
    "df_table_categ = df[category_columns].describe().T\n",
    "df_table_categ"
   ]
  },
  {
   "cell_type": "markdown",
   "id": "answering-defense",
   "metadata": {},
   "source": [
    "### Adding additional information to the categorical statistical table"
   ]
  },
  {
   "cell_type": "code",
   "execution_count": 20,
   "id": "classified-lancaster",
   "metadata": {},
   "outputs": [
    {
     "data": {
      "text/html": [
       "<div>\n",
       "<style scoped>\n",
       "    .dataframe tbody tr th:only-of-type {\n",
       "        vertical-align: middle;\n",
       "    }\n",
       "\n",
       "    .dataframe tbody tr th {\n",
       "        vertical-align: top;\n",
       "    }\n",
       "\n",
       "    .dataframe thead th {\n",
       "        text-align: right;\n",
       "    }\n",
       "</style>\n",
       "<table border=\"1\" class=\"dataframe\">\n",
       "  <thead>\n",
       "    <tr style=\"text-align: right;\">\n",
       "      <th></th>\n",
       "      <th>mode</th>\n",
       "      <th>%mode</th>\n",
       "      <th>2ndmode</th>\n",
       "      <th>%2ndmode</th>\n",
       "    </tr>\n",
       "  </thead>\n",
       "  <tbody>\n",
       "    <tr>\n",
       "      <th>current_status</th>\n",
       "      <td>NaN</td>\n",
       "      <td>NaN</td>\n",
       "      <td>NaN</td>\n",
       "      <td>NaN</td>\n",
       "    </tr>\n",
       "    <tr>\n",
       "      <th>sex</th>\n",
       "      <td>NaN</td>\n",
       "      <td>NaN</td>\n",
       "      <td>NaN</td>\n",
       "      <td>NaN</td>\n",
       "    </tr>\n",
       "    <tr>\n",
       "      <th>age_group</th>\n",
       "      <td>NaN</td>\n",
       "      <td>NaN</td>\n",
       "      <td>NaN</td>\n",
       "      <td>NaN</td>\n",
       "    </tr>\n",
       "    <tr>\n",
       "      <th>race_ethnicity_combined</th>\n",
       "      <td>NaN</td>\n",
       "      <td>NaN</td>\n",
       "      <td>NaN</td>\n",
       "      <td>NaN</td>\n",
       "    </tr>\n",
       "    <tr>\n",
       "      <th>hosp_yn</th>\n",
       "      <td>NaN</td>\n",
       "      <td>NaN</td>\n",
       "      <td>NaN</td>\n",
       "      <td>NaN</td>\n",
       "    </tr>\n",
       "    <tr>\n",
       "      <th>icu_yn</th>\n",
       "      <td>NaN</td>\n",
       "      <td>NaN</td>\n",
       "      <td>NaN</td>\n",
       "      <td>NaN</td>\n",
       "    </tr>\n",
       "    <tr>\n",
       "      <th>death_yn</th>\n",
       "      <td>NaN</td>\n",
       "      <td>NaN</td>\n",
       "      <td>NaN</td>\n",
       "      <td>NaN</td>\n",
       "    </tr>\n",
       "    <tr>\n",
       "      <th>medcond_yn</th>\n",
       "      <td>NaN</td>\n",
       "      <td>NaN</td>\n",
       "      <td>NaN</td>\n",
       "      <td>NaN</td>\n",
       "    </tr>\n",
       "  </tbody>\n",
       "</table>\n",
       "</div>"
      ],
      "text/plain": [
       "                        mode %mode 2ndmode %2ndmode\n",
       "current_status           NaN   NaN     NaN      NaN\n",
       "sex                      NaN   NaN     NaN      NaN\n",
       "age_group                NaN   NaN     NaN      NaN\n",
       "race_ethnicity_combined  NaN   NaN     NaN      NaN\n",
       "hosp_yn                  NaN   NaN     NaN      NaN\n",
       "icu_yn                   NaN   NaN     NaN      NaN\n",
       "death_yn                 NaN   NaN     NaN      NaN\n",
       "medcond_yn               NaN   NaN     NaN      NaN"
      ]
     },
     "execution_count": 20,
     "metadata": {},
     "output_type": "execute_result"
    }
   ],
   "source": [
    "# store the 2ndmode and 2ndmode % values in a new dataframe\n",
    "#df_category_mode = pd.DataFrame(index = df_table_categ.index, columns=['mode', 'freq_mode','%mode', '2ndmode', 'freq_2ndmode','%2ndmode'])\n",
    "df_category_mode = pd.DataFrame(index = df_table_categ.index, columns=['mode','%mode', '2ndmode','%2ndmode'])\n",
    "df_category_mode"
   ]
  },
  {
   "cell_type": "code",
   "execution_count": 21,
   "id": "abstract-prague",
   "metadata": {},
   "outputs": [
    {
     "name": "stdout",
     "output_type": "stream",
     "text": [
      "\n",
      "current_status\n",
      "Laboratory-confirmed case    9307\n",
      "Probable Case                 693\n",
      "Name: current_status, dtype: int64\n",
      "CategoricalIndex(['Laboratory-confirmed case', 'Probable Case'], categories=['Laboratory-confirmed case', 'Probable Case'], ordered=False, dtype='category')\n",
      "\n",
      "sex\n",
      "Female     5213\n",
      "Male       4706\n",
      "Unknown      66\n",
      "Missing      15\n",
      "Name: sex, dtype: int64\n",
      "CategoricalIndex(['Female', 'Male', 'Unknown', 'Missing'], categories=['Female', 'Male', 'Missing', 'Unknown'], ordered=False, dtype='category')\n",
      "\n",
      "age_group\n",
      "20 - 29 Years    1846\n",
      "30 - 39 Years    1650\n",
      "40 - 49 Years    1469\n",
      "50 - 59 Years    1400\n",
      "60 - 69 Years    1072\n",
      "10 - 19 Years    1055\n",
      "70 - 79 Years     580\n",
      "80+ Years         477\n",
      "0 - 9 Years       440\n",
      "Missing            11\n",
      "Name: age_group, dtype: int64\n",
      "CategoricalIndex(['20 - 29 Years', '30 - 39 Years', '40 - 49 Years',\n",
      "                  '50 - 59 Years', '60 - 69 Years', '10 - 19 Years',\n",
      "                  '70 - 79 Years', '80+ Years', '0 - 9 Years', 'Missing'],\n",
      "                 categories=['0 - 9 Years', '10 - 19 Years', '20 - 29 Years', '30 - 39 Years', '40 - 49 Years', '50 - 59 Years', '60 - 69 Years', '70 - 79 Years', ...], ordered=False, dtype='category')\n",
      "\n",
      "race_ethnicity_combined\n",
      "Unknown                                                 4030\n",
      "White, Non-Hispanic                                     3344\n",
      "Hispanic/Latino                                         1036\n",
      "Black, Non-Hispanic                                      694\n",
      "Multiple/Other, Non-Hispanic                             476\n",
      "Asian, Non-Hispanic                                      249\n",
      "Missing                                                   99\n",
      "American Indian/Alaska Native, Non-Hispanic               60\n",
      "Native Hawaiian/Other Pacific Islander, Non-Hispanic      12\n",
      "Name: race_ethnicity_combined, dtype: int64\n",
      "CategoricalIndex(['Unknown', 'White, Non-Hispanic', 'Hispanic/Latino',\n",
      "                  'Black, Non-Hispanic', 'Multiple/Other, Non-Hispanic',\n",
      "                  'Asian, Non-Hispanic', 'Missing',\n",
      "                  'American Indian/Alaska Native, Non-Hispanic',\n",
      "                  'Native Hawaiian/Other Pacific Islander, Non-Hispanic'],\n",
      "                 categories=['American Indian/Alaska Native, Non-Hispanic', 'Asian, Non-Hispanic', 'Black, Non-Hispanic', 'Hispanic/Latino', 'Missing', 'Multiple/Other, Non-Hispanic', 'Native Hawaiian/Other Pacific Islander, Non-Hispanic', 'Unknown', ...], ordered=False, dtype='category')\n",
      "\n",
      "hosp_yn\n",
      "No         5221\n",
      "Missing    2333\n",
      "Unknown    1792\n",
      "Yes         654\n",
      "Name: hosp_yn, dtype: int64\n",
      "CategoricalIndex(['No', 'Missing', 'Unknown', 'Yes'], categories=['Missing', 'No', 'Unknown', 'Yes'], ordered=False, dtype='category')\n",
      "\n",
      "icu_yn\n",
      "Missing    7637\n",
      "Unknown    1300\n",
      "No          981\n",
      "Yes          82\n",
      "Name: icu_yn, dtype: int64\n",
      "CategoricalIndex(['Missing', 'Unknown', 'No', 'Yes'], categories=['Missing', 'No', 'Unknown', 'Yes'], ordered=False, dtype='category')\n",
      "\n",
      "death_yn\n",
      "No     9684\n",
      "Yes     316\n",
      "Name: death_yn, dtype: int64\n",
      "CategoricalIndex(['No', 'Yes'], categories=['No', 'Yes'], ordered=False, dtype='category')\n",
      "\n",
      "medcond_yn\n",
      "Missing    7431\n",
      "No          911\n",
      "Yes         888\n",
      "Unknown     770\n",
      "Name: medcond_yn, dtype: int64\n",
      "CategoricalIndex(['Missing', 'No', 'Yes', 'Unknown'], categories=['Missing', 'No', 'Unknown', 'Yes'], ordered=False, dtype='category')\n"
     ]
    }
   ],
   "source": [
    "# Look at the values taken by each categorical feature\n",
    "for column in category_columns:\n",
    "    print(\"\\n\" + column)\n",
    "    print(df[column].value_counts())\n",
    "    print(df[column].value_counts().keys())\n",
    "    \n",
    "    df_category_mode.loc[column]['mode'] = df[column].value_counts().keys()[0]\n",
    "    #df_category_mode.loc[column]['freq_mode'] = df[column].value_counts()[df_category_mode.loc[column]['mode']]\n",
    "    df_category_mode.loc[column]['%mode'] = df[column].value_counts(normalize=True)[df_category_mode.loc[column]['mode']]\n",
    " \n",
    "\n",
    "    if df[column].value_counts().size > 1:\n",
    "        df_category_mode.loc[column]['2ndmode'] = df[column].value_counts().keys()[1]\n",
    "        #df_category_mode.loc[column]['freq_2ndmode'] = df[column].value_counts()[df_category_mode.loc[column]['2ndmode']]\n",
    "        df_category_mode.loc[column]['%2ndmode'] = df[column].value_counts(normalize=True)[df_category_mode.loc[column]['2ndmode']]\n",
    "    else: df_category_mode.loc[column] = '-'"
   ]
  },
  {
   "cell_type": "code",
   "execution_count": 22,
   "id": "departmental-arbor",
   "metadata": {},
   "outputs": [
    {
     "data": {
      "text/html": [
       "<div>\n",
       "<style scoped>\n",
       "    .dataframe tbody tr th:only-of-type {\n",
       "        vertical-align: middle;\n",
       "    }\n",
       "\n",
       "    .dataframe tbody tr th {\n",
       "        vertical-align: top;\n",
       "    }\n",
       "\n",
       "    .dataframe thead th {\n",
       "        text-align: right;\n",
       "    }\n",
       "</style>\n",
       "<table border=\"1\" class=\"dataframe\">\n",
       "  <thead>\n",
       "    <tr style=\"text-align: right;\">\n",
       "      <th></th>\n",
       "      <th>mode</th>\n",
       "      <th>%mode</th>\n",
       "      <th>2ndmode</th>\n",
       "      <th>%2ndmode</th>\n",
       "    </tr>\n",
       "  </thead>\n",
       "  <tbody>\n",
       "    <tr>\n",
       "      <th>current_status</th>\n",
       "      <td>Laboratory-confirmed case</td>\n",
       "      <td>0.9307</td>\n",
       "      <td>Probable Case</td>\n",
       "      <td>0.0693</td>\n",
       "    </tr>\n",
       "    <tr>\n",
       "      <th>sex</th>\n",
       "      <td>Female</td>\n",
       "      <td>0.5213</td>\n",
       "      <td>Male</td>\n",
       "      <td>0.4706</td>\n",
       "    </tr>\n",
       "    <tr>\n",
       "      <th>age_group</th>\n",
       "      <td>20 - 29 Years</td>\n",
       "      <td>0.1846</td>\n",
       "      <td>30 - 39 Years</td>\n",
       "      <td>0.1650</td>\n",
       "    </tr>\n",
       "    <tr>\n",
       "      <th>race_ethnicity_combined</th>\n",
       "      <td>Unknown</td>\n",
       "      <td>0.4030</td>\n",
       "      <td>White, Non-Hispanic</td>\n",
       "      <td>0.3344</td>\n",
       "    </tr>\n",
       "    <tr>\n",
       "      <th>hosp_yn</th>\n",
       "      <td>No</td>\n",
       "      <td>0.5221</td>\n",
       "      <td>Missing</td>\n",
       "      <td>0.2333</td>\n",
       "    </tr>\n",
       "    <tr>\n",
       "      <th>icu_yn</th>\n",
       "      <td>Missing</td>\n",
       "      <td>0.7637</td>\n",
       "      <td>Unknown</td>\n",
       "      <td>0.1300</td>\n",
       "    </tr>\n",
       "    <tr>\n",
       "      <th>death_yn</th>\n",
       "      <td>No</td>\n",
       "      <td>0.9684</td>\n",
       "      <td>Yes</td>\n",
       "      <td>0.0316</td>\n",
       "    </tr>\n",
       "    <tr>\n",
       "      <th>medcond_yn</th>\n",
       "      <td>Missing</td>\n",
       "      <td>0.7431</td>\n",
       "      <td>No</td>\n",
       "      <td>0.0911</td>\n",
       "    </tr>\n",
       "  </tbody>\n",
       "</table>\n",
       "</div>"
      ],
      "text/plain": [
       "                                              mode   %mode  \\\n",
       "current_status           Laboratory-confirmed case  0.9307   \n",
       "sex                                         Female  0.5213   \n",
       "age_group                            20 - 29 Years  0.1846   \n",
       "race_ethnicity_combined                    Unknown  0.4030   \n",
       "hosp_yn                                         No  0.5221   \n",
       "icu_yn                                     Missing  0.7637   \n",
       "death_yn                                        No  0.9684   \n",
       "medcond_yn                                 Missing  0.7431   \n",
       "\n",
       "                                     2ndmode %2ndmode  \n",
       "current_status                 Probable Case   0.0693  \n",
       "sex                                     Male   0.4706  \n",
       "age_group                      30 - 39 Years   0.1650  \n",
       "race_ethnicity_combined  White, Non-Hispanic   0.3344  \n",
       "hosp_yn                              Missing   0.2333  \n",
       "icu_yn                               Unknown   0.1300  \n",
       "death_yn                                 Yes   0.0316  \n",
       "medcond_yn                                No   0.0911  "
      ]
     },
     "execution_count": 22,
     "metadata": {},
     "output_type": "execute_result"
    }
   ],
   "source": [
    "df_category_mode"
   ]
  },
  {
   "cell_type": "code",
   "execution_count": 23,
   "id": "environmental-whale",
   "metadata": {},
   "outputs": [
    {
     "data": {
      "text/html": [
       "<div>\n",
       "<style scoped>\n",
       "    .dataframe tbody tr th:only-of-type {\n",
       "        vertical-align: middle;\n",
       "    }\n",
       "\n",
       "    .dataframe tbody tr th {\n",
       "        vertical-align: top;\n",
       "    }\n",
       "\n",
       "    .dataframe thead th {\n",
       "        text-align: right;\n",
       "    }\n",
       "</style>\n",
       "<table border=\"1\" class=\"dataframe\">\n",
       "  <thead>\n",
       "    <tr style=\"text-align: right;\">\n",
       "      <th></th>\n",
       "      <th>%missing</th>\n",
       "    </tr>\n",
       "  </thead>\n",
       "  <tbody>\n",
       "    <tr>\n",
       "      <th>current_status</th>\n",
       "      <td>0.00</td>\n",
       "    </tr>\n",
       "    <tr>\n",
       "      <th>sex</th>\n",
       "      <td>0.15</td>\n",
       "    </tr>\n",
       "    <tr>\n",
       "      <th>age_group</th>\n",
       "      <td>0.11</td>\n",
       "    </tr>\n",
       "    <tr>\n",
       "      <th>race_ethnicity_combined</th>\n",
       "      <td>0.99</td>\n",
       "    </tr>\n",
       "    <tr>\n",
       "      <th>hosp_yn</th>\n",
       "      <td>23.33</td>\n",
       "    </tr>\n",
       "    <tr>\n",
       "      <th>icu_yn</th>\n",
       "      <td>76.37</td>\n",
       "    </tr>\n",
       "    <tr>\n",
       "      <th>death_yn</th>\n",
       "      <td>0.00</td>\n",
       "    </tr>\n",
       "    <tr>\n",
       "      <th>medcond_yn</th>\n",
       "      <td>74.31</td>\n",
       "    </tr>\n",
       "  </tbody>\n",
       "</table>\n",
       "</div>"
      ],
      "text/plain": [
       "                         %missing\n",
       "current_status               0.00\n",
       "sex                          0.15\n",
       "age_group                    0.11\n",
       "race_ethnicity_combined      0.99\n",
       "hosp_yn                     23.33\n",
       "icu_yn                      76.37\n",
       "death_yn                     0.00\n",
       "medcond_yn                  74.31"
      ]
     },
     "execution_count": 23,
     "metadata": {},
     "output_type": "execute_result"
    }
   ],
   "source": [
    "# Prepare %missing column\n",
    "category_columns_perc_missing  = 100 * (df[category_columns] == 'Missing').sum()/df.shape[0] #(df[category_columns].isnull().sum()/df.shape[0])\n",
    "#category_columns_perc_missing\n",
    "category_columns_perc_missing\n",
    "# Store the values in a dataframe\n",
    "df_category_perc_missing = pd.DataFrame(category_columns_perc_missing, columns=['%missing'])\n",
    "df_category_perc_missing"
   ]
  },
  {
   "cell_type": "code",
   "execution_count": 24,
   "id": "innovative-bubble",
   "metadata": {},
   "outputs": [
    {
     "data": {
      "text/html": [
       "<div>\n",
       "<style scoped>\n",
       "    .dataframe tbody tr th:only-of-type {\n",
       "        vertical-align: middle;\n",
       "    }\n",
       "\n",
       "    .dataframe tbody tr th {\n",
       "        vertical-align: top;\n",
       "    }\n",
       "\n",
       "    .dataframe thead th {\n",
       "        text-align: right;\n",
       "    }\n",
       "</style>\n",
       "<table border=\"1\" class=\"dataframe\">\n",
       "  <thead>\n",
       "    <tr style=\"text-align: right;\">\n",
       "      <th></th>\n",
       "      <th>card</th>\n",
       "    </tr>\n",
       "  </thead>\n",
       "  <tbody>\n",
       "    <tr>\n",
       "      <th>current_status</th>\n",
       "      <td>2</td>\n",
       "    </tr>\n",
       "    <tr>\n",
       "      <th>sex</th>\n",
       "      <td>4</td>\n",
       "    </tr>\n",
       "    <tr>\n",
       "      <th>age_group</th>\n",
       "      <td>10</td>\n",
       "    </tr>\n",
       "    <tr>\n",
       "      <th>race_ethnicity_combined</th>\n",
       "      <td>9</td>\n",
       "    </tr>\n",
       "    <tr>\n",
       "      <th>hosp_yn</th>\n",
       "      <td>4</td>\n",
       "    </tr>\n",
       "    <tr>\n",
       "      <th>icu_yn</th>\n",
       "      <td>4</td>\n",
       "    </tr>\n",
       "    <tr>\n",
       "      <th>death_yn</th>\n",
       "      <td>2</td>\n",
       "    </tr>\n",
       "    <tr>\n",
       "      <th>medcond_yn</th>\n",
       "      <td>4</td>\n",
       "    </tr>\n",
       "  </tbody>\n",
       "</table>\n",
       "</div>"
      ],
      "text/plain": [
       "                         card\n",
       "current_status              2\n",
       "sex                         4\n",
       "age_group                  10\n",
       "race_ethnicity_combined     9\n",
       "hosp_yn                     4\n",
       "icu_yn                      4\n",
       "death_yn                    2\n",
       "medcond_yn                  4"
      ]
     },
     "execution_count": 24,
     "metadata": {},
     "output_type": "execute_result"
    }
   ],
   "source": [
    "# Add cardinality column to the categorical features\n",
    "# A simpler way to get the number of unique values per feature\n",
    "categorical_columns_card = df[category_columns].nunique()\n",
    "# store the values in a dataframe\n",
    "df_categorical_card = pd.DataFrame(categorical_columns_card, columns=['card'])\n",
    "df_categorical_card"
   ]
  },
  {
   "cell_type": "code",
   "execution_count": 25,
   "id": "adjusted-competition",
   "metadata": {},
   "outputs": [
    {
     "data": {
      "text/html": [
       "<div>\n",
       "<style scoped>\n",
       "    .dataframe tbody tr th:only-of-type {\n",
       "        vertical-align: middle;\n",
       "    }\n",
       "\n",
       "    .dataframe tbody tr th {\n",
       "        vertical-align: top;\n",
       "    }\n",
       "\n",
       "    .dataframe thead th {\n",
       "        text-align: right;\n",
       "    }\n",
       "</style>\n",
       "<table border=\"1\" class=\"dataframe\">\n",
       "  <thead>\n",
       "    <tr style=\"text-align: right;\">\n",
       "      <th></th>\n",
       "      <th>%unknown</th>\n",
       "    </tr>\n",
       "  </thead>\n",
       "  <tbody>\n",
       "    <tr>\n",
       "      <th>current_status</th>\n",
       "      <td>0.00</td>\n",
       "    </tr>\n",
       "    <tr>\n",
       "      <th>sex</th>\n",
       "      <td>0.66</td>\n",
       "    </tr>\n",
       "    <tr>\n",
       "      <th>age_group</th>\n",
       "      <td>0.00</td>\n",
       "    </tr>\n",
       "    <tr>\n",
       "      <th>race_ethnicity_combined</th>\n",
       "      <td>40.30</td>\n",
       "    </tr>\n",
       "    <tr>\n",
       "      <th>hosp_yn</th>\n",
       "      <td>17.92</td>\n",
       "    </tr>\n",
       "    <tr>\n",
       "      <th>icu_yn</th>\n",
       "      <td>13.00</td>\n",
       "    </tr>\n",
       "    <tr>\n",
       "      <th>death_yn</th>\n",
       "      <td>0.00</td>\n",
       "    </tr>\n",
       "    <tr>\n",
       "      <th>medcond_yn</th>\n",
       "      <td>7.70</td>\n",
       "    </tr>\n",
       "  </tbody>\n",
       "</table>\n",
       "</div>"
      ],
      "text/plain": [
       "                         %unknown\n",
       "current_status               0.00\n",
       "sex                          0.66\n",
       "age_group                    0.00\n",
       "race_ethnicity_combined     40.30\n",
       "hosp_yn                     17.92\n",
       "icu_yn                      13.00\n",
       "death_yn                     0.00\n",
       "medcond_yn                   7.70"
      ]
     },
     "execution_count": 25,
     "metadata": {},
     "output_type": "execute_result"
    }
   ],
   "source": [
    "# Prepare %Unknown column\n",
    "category_columns_perc_unknown  = 100 * (df[category_columns] == 'Unknown').sum()/df.shape[0] \n",
    "category_columns_perc_unknown\n",
    "# Store the values in a dataframe\n",
    "df_category_perc_unknown = pd.DataFrame(category_columns_perc_unknown, columns=['%unknown'])\n",
    "df_category_perc_unknown"
   ]
  },
  {
   "cell_type": "markdown",
   "id": "painted-scanning",
   "metadata": {},
   "source": [
    "### Unknown Observation\n",
    "\n",
    "From above observation and analysis of the dataset, we could see that not only is there missing information, but there is a big portion of unknown information. I want to have that visible in the quality report table."
   ]
  },
  {
   "cell_type": "code",
   "execution_count": 26,
   "id": "northern-segment",
   "metadata": {},
   "outputs": [
    {
     "data": {
      "text/html": [
       "<div>\n",
       "<style scoped>\n",
       "    .dataframe tbody tr th:only-of-type {\n",
       "        vertical-align: middle;\n",
       "    }\n",
       "\n",
       "    .dataframe tbody tr th {\n",
       "        vertical-align: top;\n",
       "    }\n",
       "\n",
       "    .dataframe thead th {\n",
       "        text-align: right;\n",
       "    }\n",
       "</style>\n",
       "<table border=\"1\" class=\"dataframe\">\n",
       "  <thead>\n",
       "    <tr style=\"text-align: right;\">\n",
       "      <th></th>\n",
       "      <th>count</th>\n",
       "      <th>unique</th>\n",
       "      <th>top</th>\n",
       "      <th>freq</th>\n",
       "      <th>mode</th>\n",
       "      <th>%mode</th>\n",
       "      <th>2ndmode</th>\n",
       "      <th>%2ndmode</th>\n",
       "      <th>%missing</th>\n",
       "      <th>%unknown</th>\n",
       "      <th>card</th>\n",
       "    </tr>\n",
       "  </thead>\n",
       "  <tbody>\n",
       "    <tr>\n",
       "      <th>current_status</th>\n",
       "      <td>10000</td>\n",
       "      <td>2</td>\n",
       "      <td>Laboratory-confirmed case</td>\n",
       "      <td>9307</td>\n",
       "      <td>Laboratory-confirmed case</td>\n",
       "      <td>0.9307</td>\n",
       "      <td>Probable Case</td>\n",
       "      <td>0.0693</td>\n",
       "      <td>0.00</td>\n",
       "      <td>0.00</td>\n",
       "      <td>2</td>\n",
       "    </tr>\n",
       "    <tr>\n",
       "      <th>sex</th>\n",
       "      <td>10000</td>\n",
       "      <td>4</td>\n",
       "      <td>Female</td>\n",
       "      <td>5213</td>\n",
       "      <td>Female</td>\n",
       "      <td>0.5213</td>\n",
       "      <td>Male</td>\n",
       "      <td>0.4706</td>\n",
       "      <td>0.15</td>\n",
       "      <td>0.66</td>\n",
       "      <td>4</td>\n",
       "    </tr>\n",
       "    <tr>\n",
       "      <th>age_group</th>\n",
       "      <td>10000</td>\n",
       "      <td>10</td>\n",
       "      <td>20 - 29 Years</td>\n",
       "      <td>1846</td>\n",
       "      <td>20 - 29 Years</td>\n",
       "      <td>0.1846</td>\n",
       "      <td>30 - 39 Years</td>\n",
       "      <td>0.1650</td>\n",
       "      <td>0.11</td>\n",
       "      <td>0.00</td>\n",
       "      <td>10</td>\n",
       "    </tr>\n",
       "    <tr>\n",
       "      <th>race_ethnicity_combined</th>\n",
       "      <td>10000</td>\n",
       "      <td>9</td>\n",
       "      <td>Unknown</td>\n",
       "      <td>4030</td>\n",
       "      <td>Unknown</td>\n",
       "      <td>0.4030</td>\n",
       "      <td>White, Non-Hispanic</td>\n",
       "      <td>0.3344</td>\n",
       "      <td>0.99</td>\n",
       "      <td>40.30</td>\n",
       "      <td>9</td>\n",
       "    </tr>\n",
       "    <tr>\n",
       "      <th>hosp_yn</th>\n",
       "      <td>10000</td>\n",
       "      <td>4</td>\n",
       "      <td>No</td>\n",
       "      <td>5221</td>\n",
       "      <td>No</td>\n",
       "      <td>0.5221</td>\n",
       "      <td>Missing</td>\n",
       "      <td>0.2333</td>\n",
       "      <td>23.33</td>\n",
       "      <td>17.92</td>\n",
       "      <td>4</td>\n",
       "    </tr>\n",
       "    <tr>\n",
       "      <th>icu_yn</th>\n",
       "      <td>10000</td>\n",
       "      <td>4</td>\n",
       "      <td>Missing</td>\n",
       "      <td>7637</td>\n",
       "      <td>Missing</td>\n",
       "      <td>0.7637</td>\n",
       "      <td>Unknown</td>\n",
       "      <td>0.1300</td>\n",
       "      <td>76.37</td>\n",
       "      <td>13.00</td>\n",
       "      <td>4</td>\n",
       "    </tr>\n",
       "    <tr>\n",
       "      <th>death_yn</th>\n",
       "      <td>10000</td>\n",
       "      <td>2</td>\n",
       "      <td>No</td>\n",
       "      <td>9684</td>\n",
       "      <td>No</td>\n",
       "      <td>0.9684</td>\n",
       "      <td>Yes</td>\n",
       "      <td>0.0316</td>\n",
       "      <td>0.00</td>\n",
       "      <td>0.00</td>\n",
       "      <td>2</td>\n",
       "    </tr>\n",
       "    <tr>\n",
       "      <th>medcond_yn</th>\n",
       "      <td>10000</td>\n",
       "      <td>4</td>\n",
       "      <td>Missing</td>\n",
       "      <td>7431</td>\n",
       "      <td>Missing</td>\n",
       "      <td>0.7431</td>\n",
       "      <td>No</td>\n",
       "      <td>0.0911</td>\n",
       "      <td>74.31</td>\n",
       "      <td>7.70</td>\n",
       "      <td>4</td>\n",
       "    </tr>\n",
       "  </tbody>\n",
       "</table>\n",
       "</div>"
      ],
      "text/plain": [
       "                         count unique                        top  freq  \\\n",
       "current_status           10000      2  Laboratory-confirmed case  9307   \n",
       "sex                      10000      4                     Female  5213   \n",
       "age_group                10000     10              20 - 29 Years  1846   \n",
       "race_ethnicity_combined  10000      9                    Unknown  4030   \n",
       "hosp_yn                  10000      4                         No  5221   \n",
       "icu_yn                   10000      4                    Missing  7637   \n",
       "death_yn                 10000      2                         No  9684   \n",
       "medcond_yn               10000      4                    Missing  7431   \n",
       "\n",
       "                                              mode   %mode  \\\n",
       "current_status           Laboratory-confirmed case  0.9307   \n",
       "sex                                         Female  0.5213   \n",
       "age_group                            20 - 29 Years  0.1846   \n",
       "race_ethnicity_combined                    Unknown  0.4030   \n",
       "hosp_yn                                         No  0.5221   \n",
       "icu_yn                                     Missing  0.7637   \n",
       "death_yn                                        No  0.9684   \n",
       "medcond_yn                                 Missing  0.7431   \n",
       "\n",
       "                                     2ndmode %2ndmode  %missing  %unknown  \\\n",
       "current_status                 Probable Case   0.0693      0.00      0.00   \n",
       "sex                                     Male   0.4706      0.15      0.66   \n",
       "age_group                      30 - 39 Years   0.1650      0.11      0.00   \n",
       "race_ethnicity_combined  White, Non-Hispanic   0.3344      0.99     40.30   \n",
       "hosp_yn                              Missing   0.2333     23.33     17.92   \n",
       "icu_yn                               Unknown   0.1300     76.37     13.00   \n",
       "death_yn                                 Yes   0.0316      0.00      0.00   \n",
       "medcond_yn                                No   0.0911     74.31      7.70   \n",
       "\n",
       "                         card  \n",
       "current_status              2  \n",
       "sex                         4  \n",
       "age_group                  10  \n",
       "race_ethnicity_combined     9  \n",
       "hosp_yn                     4  \n",
       "icu_yn                      4  \n",
       "death_yn                    2  \n",
       "medcond_yn                  4  "
      ]
     },
     "execution_count": 26,
     "metadata": {},
     "output_type": "execute_result"
    }
   ],
   "source": [
    "# Put the columns together to prepare the final table \n",
    "df_category_columns_data_quality_report_table = pd.concat([df_table_categ, df_category_mode, df_category_perc_missing, df_category_perc_unknown, df_categorical_card], axis=1)\n",
    "\n",
    "# Print data quality report table for categorical features to a file.\n",
    "df_category_columns_data_quality_report_table.to_csv(\"Homework-DataQualityReport-CategoricalFeatures-Table.csv\", \n",
    "                                       index_label='Feature')\n",
    "\n",
    "df_category_columns_data_quality_report_table"
   ]
  },
  {
   "cell_type": "markdown",
   "id": "hydraulic-vulnerability",
   "metadata": {},
   "source": [
    "# Continous/Numerical features"
   ]
  },
  {
   "cell_type": "code",
   "execution_count": 27,
   "id": "secure-score",
   "metadata": {},
   "outputs": [],
   "source": [
    "#calculating earliest case date from reference date which I decided to be 1st of Jan 2020 since dataset starts later in 2020\n",
    "#df['reference_date'] = '20200101'\n",
    "#df['reference_date'] = pd.to_datetime(df['reference_date'], format='%Y%m%d')\n",
    "#df['earliest_daysfrom2020'] = df['cdc_case_earliest_dt'].dt.date - df['reference_date'].dt.date"
   ]
  },
  {
   "cell_type": "code",
   "execution_count": 28,
   "id": "dutch-maintenance",
   "metadata": {},
   "outputs": [],
   "source": [
    "#calculating reported date from reference date which I decided to be 1st of Jan 2020 since dataset starts later in 2020\n",
    "#df['daysfrom2020_reported_date'] = df['cdc_report_dt'] - df['reference_date']"
   ]
  },
  {
   "cell_type": "code",
   "execution_count": 29,
   "id": "unusual-alloy",
   "metadata": {},
   "outputs": [
    {
     "data": {
      "text/plain": [
       "cdc_case_earliest_dt       datetime64[ns]\n",
       "cdc_report_dt              datetime64[ns]\n",
       "pos_spec_dt                datetime64[ns]\n",
       "onset_dt                   datetime64[ns]\n",
       "current_status                   category\n",
       "sex                              category\n",
       "age_group                        category\n",
       "race_ethnicity_combined          category\n",
       "hosp_yn                          category\n",
       "icu_yn                           category\n",
       "death_yn                         category\n",
       "medcond_yn                       category\n",
       "dtype: object"
      ]
     },
     "execution_count": 29,
     "metadata": {},
     "output_type": "execute_result"
    }
   ],
   "source": [
    "df.dtypes"
   ]
  },
  {
   "cell_type": "code",
   "execution_count": 30,
   "id": "acceptable-illustration",
   "metadata": {},
   "outputs": [
    {
     "data": {
      "text/plain": [
       "Index(['cdc_case_earliest_dt', 'cdc_report_dt', 'pos_spec_dt', 'onset_dt'], dtype='object')"
      ]
     },
     "execution_count": 30,
     "metadata": {},
     "output_type": "execute_result"
    }
   ],
   "source": [
    "#Keep only the numeric features.\n",
    "numeric_columns = df.select_dtypes(['datetime64', 'timedelta64']).columns\n",
    "numeric_columns"
   ]
  },
  {
   "cell_type": "code",
   "execution_count": 31,
   "id": "liberal-inclusion",
   "metadata": {},
   "outputs": [
    {
     "data": {
      "text/html": [
       "<div>\n",
       "<style scoped>\n",
       "    .dataframe tbody tr th:only-of-type {\n",
       "        vertical-align: middle;\n",
       "    }\n",
       "\n",
       "    .dataframe tbody tr th {\n",
       "        vertical-align: top;\n",
       "    }\n",
       "\n",
       "    .dataframe thead th {\n",
       "        text-align: right;\n",
       "    }\n",
       "</style>\n",
       "<table border=\"1\" class=\"dataframe\">\n",
       "  <thead>\n",
       "    <tr style=\"text-align: right;\">\n",
       "      <th></th>\n",
       "      <th>cdc_case_earliest_dt</th>\n",
       "      <th>cdc_report_dt</th>\n",
       "      <th>pos_spec_dt</th>\n",
       "      <th>onset_dt</th>\n",
       "    </tr>\n",
       "  </thead>\n",
       "  <tbody>\n",
       "    <tr>\n",
       "      <th>0</th>\n",
       "      <td>2020-12-30</td>\n",
       "      <td>2020-12-30</td>\n",
       "      <td>2021-01-02</td>\n",
       "      <td>2020-12-30</td>\n",
       "    </tr>\n",
       "    <tr>\n",
       "      <th>1</th>\n",
       "      <td>2020-12-21</td>\n",
       "      <td>2020-12-29</td>\n",
       "      <td>2020-12-22</td>\n",
       "      <td>2020-12-21</td>\n",
       "    </tr>\n",
       "    <tr>\n",
       "      <th>2</th>\n",
       "      <td>2020-11-20</td>\n",
       "      <td>2020-11-26</td>\n",
       "      <td>NaT</td>\n",
       "      <td>NaT</td>\n",
       "    </tr>\n",
       "    <tr>\n",
       "      <th>3</th>\n",
       "      <td>2020-12-17</td>\n",
       "      <td>NaT</td>\n",
       "      <td>NaT</td>\n",
       "      <td>NaT</td>\n",
       "    </tr>\n",
       "    <tr>\n",
       "      <th>4</th>\n",
       "      <td>2020-04-24</td>\n",
       "      <td>2020-05-04</td>\n",
       "      <td>NaT</td>\n",
       "      <td>2020-04-24</td>\n",
       "    </tr>\n",
       "  </tbody>\n",
       "</table>\n",
       "</div>"
      ],
      "text/plain": [
       "  cdc_case_earliest_dt cdc_report_dt pos_spec_dt   onset_dt\n",
       "0           2020-12-30    2020-12-30  2021-01-02 2020-12-30\n",
       "1           2020-12-21    2020-12-29  2020-12-22 2020-12-21\n",
       "2           2020-11-20    2020-11-26         NaT        NaT\n",
       "3           2020-12-17           NaT         NaT        NaT\n",
       "4           2020-04-24    2020-05-04         NaT 2020-04-24"
      ]
     },
     "execution_count": 31,
     "metadata": {},
     "output_type": "execute_result"
    }
   ],
   "source": [
    "# Select only the numeric features\n",
    "df[numeric_columns].head()"
   ]
  },
  {
   "cell_type": "code",
   "execution_count": 32,
   "id": "charitable-exhaust",
   "metadata": {},
   "outputs": [
    {
     "data": {
      "text/plain": [
       "cdc_case_earliest_dt       0\n",
       "cdc_report_dt           2327\n",
       "pos_spec_dt             7163\n",
       "onset_dt                4936\n",
       "dtype: int64"
      ]
     },
     "execution_count": 32,
     "metadata": {},
     "output_type": "execute_result"
    }
   ],
   "source": [
    "#Missing data all features\n",
    "df[numeric_columns].isnull().sum()"
   ]
  },
  {
   "cell_type": "code",
   "execution_count": 33,
   "id": "important-change",
   "metadata": {},
   "outputs": [
    {
     "data": {
      "text/html": [
       "<div>\n",
       "<style scoped>\n",
       "    .dataframe tbody tr th:only-of-type {\n",
       "        vertical-align: middle;\n",
       "    }\n",
       "\n",
       "    .dataframe tbody tr th {\n",
       "        vertical-align: top;\n",
       "    }\n",
       "\n",
       "    .dataframe thead th {\n",
       "        text-align: right;\n",
       "    }\n",
       "</style>\n",
       "<table border=\"1\" class=\"dataframe\">\n",
       "  <thead>\n",
       "    <tr style=\"text-align: right;\">\n",
       "      <th></th>\n",
       "      <th>%missing</th>\n",
       "    </tr>\n",
       "  </thead>\n",
       "  <tbody>\n",
       "    <tr>\n",
       "      <th>cdc_case_earliest_dt</th>\n",
       "      <td>0.00</td>\n",
       "    </tr>\n",
       "    <tr>\n",
       "      <th>cdc_report_dt</th>\n",
       "      <td>23.27</td>\n",
       "    </tr>\n",
       "    <tr>\n",
       "      <th>pos_spec_dt</th>\n",
       "      <td>71.63</td>\n",
       "    </tr>\n",
       "    <tr>\n",
       "      <th>onset_dt</th>\n",
       "      <td>49.36</td>\n",
       "    </tr>\n",
       "  </tbody>\n",
       "</table>\n",
       "</div>"
      ],
      "text/plain": [
       "                      %missing\n",
       "cdc_case_earliest_dt      0.00\n",
       "cdc_report_dt            23.27\n",
       "pos_spec_dt              71.63\n",
       "onset_dt                 49.36"
      ]
     },
     "execution_count": 33,
     "metadata": {},
     "output_type": "execute_result"
    }
   ],
   "source": [
    "# df.count() gives the number of rows with non-NAN feature value\n",
    "# Instead of df.isnull().sum() we can use the functions df.shape and df.count()\n",
    "# numeric_columns_missing = df.shape[0] - df[numeric_columns].count()\n",
    "\n",
    "# Prepare %missing column\n",
    "numeric_columns_missing  = 100 * (df[numeric_columns].isnull().sum()/df.shape[0])\n",
    "# store the values in a dataframe\n",
    "df_numeric_missing = pd.DataFrame(numeric_columns_missing, columns=['%missing'])\n",
    "df_numeric_missing"
   ]
  },
  {
   "cell_type": "code",
   "execution_count": 34,
   "id": "private-ownership",
   "metadata": {},
   "outputs": [
    {
     "data": {
      "text/html": [
       "<div>\n",
       "<style scoped>\n",
       "    .dataframe tbody tr th:only-of-type {\n",
       "        vertical-align: middle;\n",
       "    }\n",
       "\n",
       "    .dataframe tbody tr th {\n",
       "        vertical-align: top;\n",
       "    }\n",
       "\n",
       "    .dataframe thead th {\n",
       "        text-align: right;\n",
       "    }\n",
       "</style>\n",
       "<table border=\"1\" class=\"dataframe\">\n",
       "  <thead>\n",
       "    <tr style=\"text-align: right;\">\n",
       "      <th></th>\n",
       "      <th>card</th>\n",
       "    </tr>\n",
       "  </thead>\n",
       "  <tbody>\n",
       "    <tr>\n",
       "      <th>cdc_case_earliest_dt</th>\n",
       "      <td>319</td>\n",
       "    </tr>\n",
       "    <tr>\n",
       "      <th>cdc_report_dt</th>\n",
       "      <td>322</td>\n",
       "    </tr>\n",
       "    <tr>\n",
       "      <th>pos_spec_dt</th>\n",
       "      <td>313</td>\n",
       "    </tr>\n",
       "    <tr>\n",
       "      <th>onset_dt</th>\n",
       "      <td>322</td>\n",
       "    </tr>\n",
       "  </tbody>\n",
       "</table>\n",
       "</div>"
      ],
      "text/plain": [
       "                      card\n",
       "cdc_case_earliest_dt   319\n",
       "cdc_report_dt          322\n",
       "pos_spec_dt            313\n",
       "onset_dt               322"
      ]
     },
     "execution_count": 34,
     "metadata": {},
     "output_type": "execute_result"
    }
   ],
   "source": [
    "# Add cardinality column\n",
    "# A simpler way to get the number of unique values per feature\n",
    "numeric_columns_card = df[numeric_columns].nunique()\n",
    "# store the values in a dataframe\n",
    "df_numeric_card = pd.DataFrame(numeric_columns_card, columns=['card'])\n",
    "df_numeric_card"
   ]
  },
  {
   "cell_type": "code",
   "execution_count": 35,
   "id": "blocked-north",
   "metadata": {},
   "outputs": [
    {
     "data": {
      "text/html": [
       "<div>\n",
       "<style scoped>\n",
       "    .dataframe tbody tr th:only-of-type {\n",
       "        vertical-align: middle;\n",
       "    }\n",
       "\n",
       "    .dataframe tbody tr th {\n",
       "        vertical-align: top;\n",
       "    }\n",
       "\n",
       "    .dataframe thead th {\n",
       "        text-align: right;\n",
       "    }\n",
       "</style>\n",
       "<table border=\"1\" class=\"dataframe\">\n",
       "  <thead>\n",
       "    <tr style=\"text-align: right;\">\n",
       "      <th></th>\n",
       "      <th>count</th>\n",
       "      <th>mean</th>\n",
       "      <th>min</th>\n",
       "      <th>25%</th>\n",
       "      <th>50%</th>\n",
       "      <th>75%</th>\n",
       "      <th>max</th>\n",
       "      <th>%missing</th>\n",
       "      <th>card</th>\n",
       "    </tr>\n",
       "  </thead>\n",
       "  <tbody>\n",
       "    <tr>\n",
       "      <th>cdc_case_earliest_dt</th>\n",
       "      <td>10000</td>\n",
       "      <td>2020-10-04 16:25:58.080000000</td>\n",
       "      <td>2020-01-01</td>\n",
       "      <td>2020-07-25</td>\n",
       "      <td>2020-11-07</td>\n",
       "      <td>2020-12-15</td>\n",
       "      <td>2021-01-16</td>\n",
       "      <td>0.00</td>\n",
       "      <td>319</td>\n",
       "    </tr>\n",
       "    <tr>\n",
       "      <th>cdc_report_dt</th>\n",
       "      <td>7673</td>\n",
       "      <td>2020-10-16 05:30:29.323602176</td>\n",
       "      <td>2020-03-04</td>\n",
       "      <td>2020-08-14</td>\n",
       "      <td>2020-11-11</td>\n",
       "      <td>2020-12-21</td>\n",
       "      <td>2021-01-29</td>\n",
       "      <td>23.27</td>\n",
       "      <td>322</td>\n",
       "    </tr>\n",
       "    <tr>\n",
       "      <th>pos_spec_dt</th>\n",
       "      <td>2837</td>\n",
       "      <td>2020-09-17 07:27:10.595699712</td>\n",
       "      <td>2020-03-13</td>\n",
       "      <td>2020-07-03</td>\n",
       "      <td>2020-10-17</td>\n",
       "      <td>2020-12-04</td>\n",
       "      <td>2021-01-24</td>\n",
       "      <td>71.63</td>\n",
       "      <td>313</td>\n",
       "    </tr>\n",
       "    <tr>\n",
       "      <th>onset_dt</th>\n",
       "      <td>5064</td>\n",
       "      <td>2020-09-22 05:01:08.246445568</td>\n",
       "      <td>2020-01-01</td>\n",
       "      <td>2020-07-15</td>\n",
       "      <td>2020-10-21</td>\n",
       "      <td>2020-12-03</td>\n",
       "      <td>2021-01-27</td>\n",
       "      <td>49.36</td>\n",
       "      <td>322</td>\n",
       "    </tr>\n",
       "  </tbody>\n",
       "</table>\n",
       "</div>"
      ],
      "text/plain": [
       "                      count                          mean        min  \\\n",
       "cdc_case_earliest_dt  10000 2020-10-04 16:25:58.080000000 2020-01-01   \n",
       "cdc_report_dt          7673 2020-10-16 05:30:29.323602176 2020-03-04   \n",
       "pos_spec_dt            2837 2020-09-17 07:27:10.595699712 2020-03-13   \n",
       "onset_dt               5064 2020-09-22 05:01:08.246445568 2020-01-01   \n",
       "\n",
       "                            25%        50%        75%        max  %missing  \\\n",
       "cdc_case_earliest_dt 2020-07-25 2020-11-07 2020-12-15 2021-01-16      0.00   \n",
       "cdc_report_dt        2020-08-14 2020-11-11 2020-12-21 2021-01-29     23.27   \n",
       "pos_spec_dt          2020-07-03 2020-10-17 2020-12-04 2021-01-24     71.63   \n",
       "onset_dt             2020-07-15 2020-10-21 2020-12-03 2021-01-27     49.36   \n",
       "\n",
       "                      card  \n",
       "cdc_case_earliest_dt   319  \n",
       "cdc_report_dt          322  \n",
       "pos_spec_dt            313  \n",
       "onset_dt               322  "
      ]
     },
     "execution_count": 35,
     "metadata": {},
     "output_type": "execute_result"
    }
   ],
   "source": [
    "# Add missing values column\n",
    "df_table_numeric = df[numeric_columns].describe(datetime_is_numeric=True).T\n",
    "#final table or timedelta\n",
    "#df_table_numeric_final = df[numeric_columns_final].describe(timedelta_is_numeric=True).T\n",
    "\n",
    "# Put the columns together to prepare the final table for numeric_columns\n",
    "df_numeric_columns_data_quality_report_table = pd.concat([df_table_numeric, df_numeric_missing, df_numeric_card], axis=1)\n",
    "\n",
    "# Print data quality report table for numeric features to a file.\n",
    "df_numeric_columns_data_quality_report_table.to_csv(\"Homework-DataQualityReport-NumericFeatures-Table.csv\", \n",
    "                                        index_label='Feature')\n",
    "df_numeric_columns_data_quality_report_table"
   ]
  },
  {
   "cell_type": "markdown",
   "id": "blond-symphony",
   "metadata": {},
   "source": [
    "On the cdc website, cdc recommends researchers use cdc_case_earliest_dt in time series and other time-based analyses instead of cdc_report_dt. For this reason I will drop this feature going forward.\n",
    "For onset_dt and pos_spec_dt the missing values are significant, for this reason I will also drop these features going forward.\n",
    "\n",
    "earliest_daysfrom2020 shows interesting numerical information. The data clearly shows that the first instance of this dataset started already 1st of January 2020 which is the start point of the reference_date. However 75% of the instances dates to the end of 2020. "
   ]
  },
  {
   "cell_type": "markdown",
   "id": "chemical-cricket",
   "metadata": {},
   "source": [
    "# Data Quality Report: Visualisations\n",
    "\n",
    "In this section I am plotting histograms and boxplots for numeric features and barplots for categorical features"
   ]
  },
  {
   "cell_type": "markdown",
   "id": "unsigned-basketball",
   "metadata": {},
   "source": [
    "### Bar Charts for the categorical features"
   ]
  },
  {
   "cell_type": "code",
   "execution_count": 36,
   "id": "differential-belle",
   "metadata": {},
   "outputs": [
    {
     "data": {
      "image/png": "[encoded data removed]",
      "text/plain": [
       "<Figure size 360x360 with 1 Axes>"
      ]
     },
     "metadata": {
      "needs_background": "light"
     },
     "output_type": "display_data"
    },
    {
     "data": {
      "image/png": "[encoded data removed]",
      "text/plain": [
       "<Figure size 360x360 with 1 Axes>"
      ]
     },
     "metadata": {
      "needs_background": "light"
     },
     "output_type": "display_data"
    },
    {
     "data": {
      "image/png": "[encoded data removed]",
      "text/plain": [
       "<Figure size 360x360 with 1 Axes>"
      ]
     },
     "metadata": {
      "needs_background": "light"
     },
     "output_type": "display_data"
    },
    {
     "data": {
      "image/png": "[encoded data removed]",
      "text/plain": [
       "<Figure size 360x360 with 1 Axes>"
      ]
     },
     "metadata": {
      "needs_background": "light"
     },
     "output_type": "display_data"
    },
    {
     "data": {
      "image/png": "[encoded data removed]",
      "text/plain": [
       "<Figure size 360x360 with 1 Axes>"
      ]
     },
     "metadata": {
      "needs_background": "light"
     },
     "output_type": "display_data"
    },
    {
     "data": {
      "image/png": "[encoded data removed]",
      "text/plain": [
       "<Figure size 360x360 with 1 Axes>"
      ]
     },
     "metadata": {
      "needs_background": "light"
     },
     "output_type": "display_data"
    },
    {
     "data": {
      "image/png": "[encoded data removed]",
      "text/plain": [
       "<Figure size 360x360 with 1 Axes>"
      ]
     },
     "metadata": {
      "needs_background": "light"
     },
     "output_type": "display_data"
    },
    {
     "data": {
      "image/png": "[encoded data removed]",
      "text/plain": [
       "<Figure size 360x360 with 1 Axes>"
      ]
     },
     "metadata": {
      "needs_background": "light"
     },
     "output_type": "display_data"
    }
   ],
   "source": [
    "# Plot bar charts for all categorical features and save them in a single PDF file\n",
    "\n",
    "categoricalPDF = PdfPages('CDC_DataQualityReport_CategoricalFeatures_barcharts.pdf')\n",
    "\n",
    "for col in category_columns:\n",
    "        f = df[col].value_counts().plot(kind='bar', title=column, figsize=(5,5))\n",
    "        plt.title(col)\n",
    "        plt.ylabel('Number of People')\n",
    "        categoricalPDF.savefig(f.get_figure(), bbox_inches = 'tight')\n",
    "        plt.show()\n",
    "        \n",
    "categoricalPDF.close()"
   ]
  },
  {
   "cell_type": "markdown",
   "id": "exposed-delta",
   "metadata": {},
   "source": [
    "## Histograms for the Datetime Datatype"
   ]
  },
  {
   "cell_type": "code",
   "execution_count": 37,
   "id": "entitled-mills",
   "metadata": {},
   "outputs": [
    {
     "data": {
      "text/plain": [
       "<Figure size 432x288 with 0 Axes>"
      ]
     },
     "metadata": {},
     "output_type": "display_data"
    },
    {
     "data": {
      "image/png": "[encoded data removed]",
      "text/plain": [
       "<Figure size 1440x1440 with 4 Axes>"
      ]
     },
     "metadata": {
      "needs_background": "light"
     },
     "output_type": "display_data"
    }
   ],
   "source": [
    "# Plotting the histogram of all numeric features at the same time.\n",
    "plt.figure()\n",
    "df.hist(figsize=(20, 20), xrot = 45, bins=50, rwidth=0.5)\n",
    "# We can save the plot into a file as shown below.\n",
    "plt.savefig('Homework-DataQualityReport-NumericFeatures-histograms-1-1.png')"
   ]
  },
  {
   "cell_type": "markdown",
   "id": "secret-stranger",
   "metadata": {},
   "source": [
    "# Part 2) Data Understanding: Data Quality Plan"
   ]
  },
  {
   "cell_type": "markdown",
   "id": "settled-cargo",
   "metadata": {},
   "source": [
    " | Feature                  | Data Quality Issue            | Handling Strategy              |\n",
    "|------------------------------------|-------------------------------|--------------------------------|\n",
    "    | cdc_case_earliest_dt                | None                      | Keep as is                     |\n",
    "| cdc_report_dt                       | Depreciated                   | Drop feature as suggested by cdc|\n",
    "| pos_spec_dt                         | Missing values (71.63%)       | Too many missing values, drop feature|\n",
    "| onset_dt                            | Missing values (49.36%)       | Too many missing values, drop feature|\n",
    "| current_status                      | None                          | Keep as is                   |\n",
    "| sex                                 | Missing values (0.15%) | Investigate rows affected, consider imputation |\n",
    "| age_group                           | Missing values (0.11%)        | Investigate rows affected, consider imputation|\n",
    "| race_ethnicity_combined             | Missing values (0.99%)  | Consider imputation for the missing values |\n",
    "| hosp_yn                             | Missing values (23.33%)   | Investigate cause and decide what to do with this feature            |\n",
    "| icu_yn                              | Missing values (76.37%) |   Too many missing values, drop feature |\n",
    "| death_yn                            | None                      | Keep as is                     |\n",
    "| medcond_yn                          | Missing values (74.31%)                       | Too many missing values, drop feature |\n"
   ]
  },
  {
   "cell_type": "markdown",
   "id": "renewable-sheffield",
   "metadata": {},
   "source": [
    "### Justification for the proposed handling strategies"
   ]
  },
  {
   "cell_type": "markdown",
   "id": "laughing-factory",
   "metadata": {},
   "source": [
    "- cdc_case_earliest_dt: This feature has no missing values and data is fine. Therefor keep it as it is.\n",
    "\n",
    "- cdc_report_dt: The source of the data (CDC) advices to use cdc_case_earliest_dt in time series and other time-based analyses.\n",
    "\n",
    "- pos_spec_dt: This feature has too many missing values. For this reason I propose to drop this feature as imputation will not be efficient in this case.\n",
    "\n",
    "- onset_dt: This feature has almost 50% missing values. Furthermore, this feature is not directly relevant to get closer to our target outcome for this analysis. For this reason I propose dropping this feature. \n",
    "\n",
    "- current status: This feature has no missing values and data is fine. Therefor keep it as it is.\n",
    "\n",
    "- sex: This feature has 0.15% missing values. We add the most frequent value/the mode to replace the missing values.  This is the most plausible estimated value based on the feature values that are present. \n",
    "\n",
    "- age_group: This feature has 0.11% missing values. We add the most frequent value/the mode to replace the missing values. \n",
    "\n",
    "- race_ethnicity_combined: This feature has 0.99% missing values, and we use the mode to replace the missing values.\n",
    "\n",
    "- hosp_yn: This feature has 23.33% missing values. We use the mode to replace the values as this is a categorial feature, and replacing with the mode makes sense.\n",
    "\n",
    "- icu_yn: This feature has 76.37% missing values. The amount of missing values are so signification that I propose to drop this feature.\n",
    "\n",
    "- death_yn: This feature has no missing values. Keeping this feature as it is.\n",
    "\n",
    "- medcond_yn: This feature has 74.31% missing values. The amount of missing values are so signification that I propose to drop this feature."
   ]
  },
  {
   "cell_type": "markdown",
   "id": "narrative-activity",
   "metadata": {},
   "source": [
    "2. **Implementing Data Quality Strategies.** Update your csv file to include the actions noted in your data quality plan (e.g., dropped features, dropped examples, outliers, filling missing data)."
   ]
  },
  {
   "cell_type": "markdown",
   "id": "vertical-radius",
   "metadata": {},
   "source": [
    "## Dropping the features as according to data quality plan"
   ]
  },
  {
   "cell_type": "code",
   "execution_count": 38,
   "id": "attended-promise",
   "metadata": {},
   "outputs": [],
   "source": [
    "# Keep a copy of the original data\n",
    "df_raw = df.copy()"
   ]
  },
  {
   "cell_type": "code",
   "execution_count": 39,
   "id": "ignored-defensive",
   "metadata": {},
   "outputs": [],
   "source": [
    "# Dropping the intended columns \n",
    "columns_to_drop = ['cdc_report_dt', 'pos_spec_dt', 'onset_dt', 'icu_yn', 'medcond_yn']\n",
    "for column in columns_to_drop:\n",
    "    df_raw = df_raw.drop(column, 1)"
   ]
  },
  {
   "cell_type": "code",
   "execution_count": 40,
   "id": "rubber-giving",
   "metadata": {},
   "outputs": [
    {
     "data": {
      "text/html": [
       "<div>\n",
       "<style scoped>\n",
       "    .dataframe tbody tr th:only-of-type {\n",
       "        vertical-align: middle;\n",
       "    }\n",
       "\n",
       "    .dataframe tbody tr th {\n",
       "        vertical-align: top;\n",
       "    }\n",
       "\n",
       "    .dataframe thead th {\n",
       "        text-align: right;\n",
       "    }\n",
       "</style>\n",
       "<table border=\"1\" class=\"dataframe\">\n",
       "  <thead>\n",
       "    <tr style=\"text-align: right;\">\n",
       "      <th></th>\n",
       "      <th>cdc_case_earliest_dt</th>\n",
       "      <th>current_status</th>\n",
       "      <th>sex</th>\n",
       "      <th>age_group</th>\n",
       "      <th>race_ethnicity_combined</th>\n",
       "      <th>hosp_yn</th>\n",
       "      <th>death_yn</th>\n",
       "    </tr>\n",
       "  </thead>\n",
       "  <tbody>\n",
       "    <tr>\n",
       "      <th>0</th>\n",
       "      <td>2020-12-30</td>\n",
       "      <td>Laboratory-confirmed case</td>\n",
       "      <td>Male</td>\n",
       "      <td>40 - 49 Years</td>\n",
       "      <td>White, Non-Hispanic</td>\n",
       "      <td>No</td>\n",
       "      <td>No</td>\n",
       "    </tr>\n",
       "    <tr>\n",
       "      <th>1</th>\n",
       "      <td>2020-12-21</td>\n",
       "      <td>Laboratory-confirmed case</td>\n",
       "      <td>Male</td>\n",
       "      <td>60 - 69 Years</td>\n",
       "      <td>White, Non-Hispanic</td>\n",
       "      <td>No</td>\n",
       "      <td>No</td>\n",
       "    </tr>\n",
       "    <tr>\n",
       "      <th>2</th>\n",
       "      <td>2020-11-20</td>\n",
       "      <td>Probable Case</td>\n",
       "      <td>Female</td>\n",
       "      <td>30 - 39 Years</td>\n",
       "      <td>Unknown</td>\n",
       "      <td>No</td>\n",
       "      <td>No</td>\n",
       "    </tr>\n",
       "    <tr>\n",
       "      <th>3</th>\n",
       "      <td>2020-12-17</td>\n",
       "      <td>Laboratory-confirmed case</td>\n",
       "      <td>Male</td>\n",
       "      <td>10 - 19 Years</td>\n",
       "      <td>Unknown</td>\n",
       "      <td>Unknown</td>\n",
       "      <td>No</td>\n",
       "    </tr>\n",
       "    <tr>\n",
       "      <th>4</th>\n",
       "      <td>2020-04-24</td>\n",
       "      <td>Laboratory-confirmed case</td>\n",
       "      <td>Female</td>\n",
       "      <td>50 - 59 Years</td>\n",
       "      <td>White, Non-Hispanic</td>\n",
       "      <td>No</td>\n",
       "      <td>No</td>\n",
       "    </tr>\n",
       "  </tbody>\n",
       "</table>\n",
       "</div>"
      ],
      "text/plain": [
       "  cdc_case_earliest_dt             current_status     sex      age_group  \\\n",
       "0           2020-12-30  Laboratory-confirmed case    Male  40 - 49 Years   \n",
       "1           2020-12-21  Laboratory-confirmed case    Male  60 - 69 Years   \n",
       "2           2020-11-20              Probable Case  Female  30 - 39 Years   \n",
       "3           2020-12-17  Laboratory-confirmed case    Male  10 - 19 Years   \n",
       "4           2020-04-24  Laboratory-confirmed case  Female  50 - 59 Years   \n",
       "\n",
       "  race_ethnicity_combined  hosp_yn death_yn  \n",
       "0     White, Non-Hispanic       No       No  \n",
       "1     White, Non-Hispanic       No       No  \n",
       "2                 Unknown       No       No  \n",
       "3                 Unknown  Unknown       No  \n",
       "4     White, Non-Hispanic       No       No  "
      ]
     },
     "execution_count": 40,
     "metadata": {},
     "output_type": "execute_result"
    }
   ],
   "source": [
    "#Checking if the proccess was successfull\n",
    "df_raw.head()"
   ]
  },
  {
   "cell_type": "markdown",
   "id": "facial-progress",
   "metadata": {},
   "source": [
    "## Imputation of missing values"
   ]
  },
  {
   "cell_type": "markdown",
   "id": "secure-assistant",
   "metadata": {},
   "source": [
    "#### **Replacing the missing values with the mode of the features**"
   ]
  },
  {
   "cell_type": "code",
   "execution_count": 41,
   "id": "united-middle",
   "metadata": {},
   "outputs": [],
   "source": [
    "#Replacing the missing values of the features \"sex\" with the mode of the feature\n",
    "df_raw['sex'] = df_raw['sex'].replace({'Missing': df['sex'].mode()[0]})"
   ]
  },
  {
   "cell_type": "code",
   "execution_count": 42,
   "id": "received-swimming",
   "metadata": {},
   "outputs": [],
   "source": [
    "#Replacing the missing values of the features \"age_group\" with the mode of the feature\n",
    "df_raw['age_group'] = df_raw['age_group'].replace({'Missing': df['age_group'].mode()[0]})"
   ]
  },
  {
   "cell_type": "code",
   "execution_count": 43,
   "id": "equal-continent",
   "metadata": {},
   "outputs": [],
   "source": [
    "#df_raw['race_ethnicity_combined'] = df_raw['race_ethnicity_combined'].replace('Missing', 'Unknown' )\n",
    "df_raw['race_ethnicity_combined'] = df_raw['race_ethnicity_combined'].replace({'Missing': df['race_ethnicity_combined'].mode()[0]})"
   ]
  },
  {
   "cell_type": "code",
   "execution_count": 44,
   "id": "sought-florida",
   "metadata": {},
   "outputs": [],
   "source": [
    "#df_raw['hosp_yn'] = df_raw['hosp_yn'].replace('Missing', 'No' )\n",
    "df_raw['hosp_yn'] = df_raw['hosp_yn'].replace({'Missing': df['hosp_yn'].mode()[0]})"
   ]
  },
  {
   "cell_type": "markdown",
   "id": "coordinated-maple",
   "metadata": {},
   "source": [
    "#### Checking if the imputations were successful"
   ]
  },
  {
   "cell_type": "code",
   "execution_count": 45,
   "id": "acute-penny",
   "metadata": {},
   "outputs": [
    {
     "name": "stdout",
     "output_type": "stream",
     "text": [
      "\n",
      "cdc_case_earliest_dt\n",
      "2020-12-28    110\n",
      "2021-01-07    110\n",
      "2021-01-06    109\n",
      "2021-01-04    107\n",
      "2020-12-07    107\n",
      "             ... \n",
      "2020-03-08      2\n",
      "2020-02-28      1\n",
      "2020-01-01      1\n",
      "2020-03-13      1\n",
      "2020-02-10      1\n",
      "Name: cdc_case_earliest_dt, Length: 319, dtype: int64\n",
      "\n",
      "current_status\n",
      "Laboratory-confirmed case    9307\n",
      "Probable Case                 693\n",
      "Name: current_status, dtype: int64\n",
      "\n",
      "sex\n",
      "Female     5228\n",
      "Male       4706\n",
      "Unknown      66\n",
      "Name: sex, dtype: int64\n",
      "\n",
      "age_group\n",
      "20 - 29 Years    1857\n",
      "30 - 39 Years    1650\n",
      "40 - 49 Years    1469\n",
      "50 - 59 Years    1400\n",
      "60 - 69 Years    1072\n",
      "10 - 19 Years    1055\n",
      "70 - 79 Years     580\n",
      "80+ Years         477\n",
      "0 - 9 Years       440\n",
      "Name: age_group, dtype: int64\n",
      "\n",
      "race_ethnicity_combined\n",
      "Unknown                                                 4129\n",
      "White, Non-Hispanic                                     3344\n",
      "Hispanic/Latino                                         1036\n",
      "Black, Non-Hispanic                                      694\n",
      "Multiple/Other, Non-Hispanic                             476\n",
      "Asian, Non-Hispanic                                      249\n",
      "American Indian/Alaska Native, Non-Hispanic               60\n",
      "Native Hawaiian/Other Pacific Islander, Non-Hispanic      12\n",
      "Name: race_ethnicity_combined, dtype: int64\n",
      "\n",
      "hosp_yn\n",
      "No         7554\n",
      "Unknown    1792\n",
      "Yes         654\n",
      "Name: hosp_yn, dtype: int64\n",
      "\n",
      "death_yn\n",
      "No     9684\n",
      "Yes     316\n",
      "Name: death_yn, dtype: int64\n"
     ]
    }
   ],
   "source": [
    "#Checking if the process of imputating the missing values were successful\n",
    "for column in df_raw:\n",
    "    print(\"\\n\" + column)\n",
    "    print(df_raw[column].value_counts())"
   ]
  },
  {
   "cell_type": "code",
   "execution_count": 46,
   "id": "israeli-minneapolis",
   "metadata": {},
   "outputs": [
    {
     "data": {
      "text/plain": [
       "cdc_case_earliest_dt       0\n",
       "current_status             0\n",
       "sex                        0\n",
       "age_group                  0\n",
       "race_ethnicity_combined    0\n",
       "hosp_yn                    0\n",
       "death_yn                   0\n",
       "dtype: int64"
      ]
     },
     "execution_count": 46,
     "metadata": {},
     "output_type": "execute_result"
    }
   ],
   "source": [
    "df_raw.isnull().sum()"
   ]
  },
  {
   "cell_type": "code",
   "execution_count": 47,
   "id": "dramatic-price",
   "metadata": {},
   "outputs": [
    {
     "data": {
      "text/html": [
       "<div>\n",
       "<style scoped>\n",
       "    .dataframe tbody tr th:only-of-type {\n",
       "        vertical-align: middle;\n",
       "    }\n",
       "\n",
       "    .dataframe tbody tr th {\n",
       "        vertical-align: top;\n",
       "    }\n",
       "\n",
       "    .dataframe thead th {\n",
       "        text-align: right;\n",
       "    }\n",
       "</style>\n",
       "<table border=\"1\" class=\"dataframe\">\n",
       "  <thead>\n",
       "    <tr style=\"text-align: right;\">\n",
       "      <th></th>\n",
       "      <th>count</th>\n",
       "      <th>unique</th>\n",
       "      <th>top</th>\n",
       "      <th>freq</th>\n",
       "    </tr>\n",
       "  </thead>\n",
       "  <tbody>\n",
       "    <tr>\n",
       "      <th>current_status</th>\n",
       "      <td>10000</td>\n",
       "      <td>2</td>\n",
       "      <td>Laboratory-confirmed case</td>\n",
       "      <td>9307</td>\n",
       "    </tr>\n",
       "    <tr>\n",
       "      <th>sex</th>\n",
       "      <td>10000</td>\n",
       "      <td>3</td>\n",
       "      <td>Female</td>\n",
       "      <td>5228</td>\n",
       "    </tr>\n",
       "    <tr>\n",
       "      <th>age_group</th>\n",
       "      <td>10000</td>\n",
       "      <td>9</td>\n",
       "      <td>20 - 29 Years</td>\n",
       "      <td>1857</td>\n",
       "    </tr>\n",
       "    <tr>\n",
       "      <th>race_ethnicity_combined</th>\n",
       "      <td>10000</td>\n",
       "      <td>8</td>\n",
       "      <td>Unknown</td>\n",
       "      <td>4129</td>\n",
       "    </tr>\n",
       "    <tr>\n",
       "      <th>hosp_yn</th>\n",
       "      <td>10000</td>\n",
       "      <td>3</td>\n",
       "      <td>No</td>\n",
       "      <td>7554</td>\n",
       "    </tr>\n",
       "    <tr>\n",
       "      <th>death_yn</th>\n",
       "      <td>10000</td>\n",
       "      <td>2</td>\n",
       "      <td>No</td>\n",
       "      <td>9684</td>\n",
       "    </tr>\n",
       "  </tbody>\n",
       "</table>\n",
       "</div>"
      ],
      "text/plain": [
       "                         count unique                        top  freq\n",
       "current_status           10000      2  Laboratory-confirmed case  9307\n",
       "sex                      10000      3                     Female  5228\n",
       "age_group                10000      9              20 - 29 Years  1857\n",
       "race_ethnicity_combined  10000      8                    Unknown  4129\n",
       "hosp_yn                  10000      3                         No  7554\n",
       "death_yn                 10000      2                         No  9684"
      ]
     },
     "execution_count": 47,
     "metadata": {},
     "output_type": "execute_result"
    }
   ],
   "source": [
    "# Stats for categorical features\n",
    "df_raw.describe(include=['category']).T"
   ]
  },
  {
   "cell_type": "code",
   "execution_count": 48,
   "id": "gothic-liberia",
   "metadata": {},
   "outputs": [
    {
     "data": {
      "text/html": [
       "<div>\n",
       "<style scoped>\n",
       "    .dataframe tbody tr th:only-of-type {\n",
       "        vertical-align: middle;\n",
       "    }\n",
       "\n",
       "    .dataframe tbody tr th {\n",
       "        vertical-align: top;\n",
       "    }\n",
       "\n",
       "    .dataframe thead th {\n",
       "        text-align: right;\n",
       "    }\n",
       "</style>\n",
       "<table border=\"1\" class=\"dataframe\">\n",
       "  <thead>\n",
       "    <tr style=\"text-align: right;\">\n",
       "      <th></th>\n",
       "      <th>count</th>\n",
       "      <th>mean</th>\n",
       "      <th>min</th>\n",
       "      <th>25%</th>\n",
       "      <th>50%</th>\n",
       "      <th>75%</th>\n",
       "      <th>max</th>\n",
       "    </tr>\n",
       "  </thead>\n",
       "  <tbody>\n",
       "    <tr>\n",
       "      <th>cdc_case_earliest_dt</th>\n",
       "      <td>10000</td>\n",
       "      <td>2020-10-04 16:25:58.080</td>\n",
       "      <td>2020-01-01</td>\n",
       "      <td>2020-07-25</td>\n",
       "      <td>2020-11-07</td>\n",
       "      <td>2020-12-15</td>\n",
       "      <td>2021-01-16</td>\n",
       "    </tr>\n",
       "  </tbody>\n",
       "</table>\n",
       "</div>"
      ],
      "text/plain": [
       "                      count                    mean        min        25%  \\\n",
       "cdc_case_earliest_dt  10000 2020-10-04 16:25:58.080 2020-01-01 2020-07-25   \n",
       "\n",
       "                            50%        75%        max  \n",
       "cdc_case_earliest_dt 2020-11-07 2020-12-15 2021-01-16  "
      ]
     },
     "execution_count": 48,
     "metadata": {},
     "output_type": "execute_result"
    }
   ],
   "source": [
    "# Print table with numerical statistics\n",
    "df_raw.describe(datetime_is_numeric=True, include=['datetime64'] ).T"
   ]
  },
  {
   "cell_type": "markdown",
   "id": "auburn-property",
   "metadata": {},
   "source": [
    "All features seem to be ok, no missing values or strange values. 3. Clean Data. #Save the new data frame to a file with a name that reflects that the data has been cleaned."
   ]
  },
  {
   "cell_type": "code",
   "execution_count": 49,
   "id": "circular-muscle",
   "metadata": {},
   "outputs": [],
   "source": [
    "# Write the cleaned dataframe to a csv file\n",
    "df_raw.to_csv('Homework_dataset_cleaned.csv', index=False)"
   ]
  },
  {
   "cell_type": "markdown",
   "id": "proof-thursday",
   "metadata": {},
   "source": [
    "# 3) Exploring Relationships Between Feature Pairs\n",
    "\n",
    "### - Choose a subset of features you find promising and plot pairwise feature interactions (e.g., continuous-continuous feature plot or continuous-categorical plots or correlation plots). Explain your choices."
   ]
  },
  {
   "cell_type": "markdown",
   "id": "moral-present",
   "metadata": {},
   "source": [
    "The features that I will look at for pairwise feature interaction are the following categorical features:\n",
    "- current_status \n",
    "- sex\n",
    "- age_group\n",
    "- race_ethnicity_combined\n",
    "- hosp_yn\n",
    "- death_yn\n",
    "\n",
    "The choices here I based on the idea that some particular features will have a strong assosciation to the target outcome. Therefor, checking the correlation with all of the categorical features up against each other will give a good indication. Based on that, I will choose a couple of features to analyse even further."
   ]
  },
  {
   "cell_type": "markdown",
   "id": "fluid-source",
   "metadata": {},
   "source": [
    "## Correlations for categorical features"
   ]
  },
  {
   "cell_type": "code",
   "execution_count": 50,
   "id": "computational-contents",
   "metadata": {},
   "outputs": [],
   "source": [
    "#making a dataframe with only the categorical features. \n",
    "df_raw_categorical = df_raw.select_dtypes(['category']).columns"
   ]
  },
  {
   "cell_type": "code",
   "execution_count": 51,
   "id": "wireless-distribution",
   "metadata": {},
   "outputs": [],
   "source": [
    "#function Cramér’s V to find correlation between the categorical features.Based on a nominal variation of Pearson’s Chi-Square Test.\n",
    "def cramers_v(x, y):\n",
    "    confusion_matrix = pd.crosstab(x,y)\n",
    "    chi2 = ss.chi2_contingency(confusion_matrix)[0]\n",
    "    n = confusion_matrix.sum().sum()\n",
    "    phi2 = chi2/n\n",
    "    r,k = confusion_matrix.shape\n",
    "    phi2corr = max(0, phi2-((k-1)*(r-1))/(n-1))\n",
    "    rcorr = r-((r-1)**2)/(n-1)\n",
    "    kcorr = k-((k-1)**2)/(n-1)\n",
    "    return np.sqrt(phi2corr/min((kcorr-1),(rcorr-1)))"
   ]
  },
  {
   "cell_type": "code",
   "execution_count": 52,
   "id": "critical-marks",
   "metadata": {},
   "outputs": [
    {
     "data": {
      "text/plain": [
       "0.15931387639830596"
      ]
     },
     "execution_count": 52,
     "metadata": {},
     "output_type": "execute_result"
    }
   ],
   "source": [
    "#testing to see if the function works\n",
    "cramers_v(df['race_ethnicity_combined'], df['medcond_yn'])"
   ]
  },
  {
   "cell_type": "code",
   "execution_count": 53,
   "id": "prescribed-shipping",
   "metadata": {},
   "outputs": [
    {
     "name": "stdout",
     "output_type": "stream",
     "text": [
      "current_status\n",
      "sex\n",
      "age_group\n",
      "race_ethnicity_combined\n",
      "hosp_yn\n",
      "death_yn\n"
     ]
    }
   ],
   "source": [
    "#testing to see if df_raw_categorical only contains categorical features\n",
    "for column in df_raw_categorical:\n",
    "    print(column)"
   ]
  },
  {
   "cell_type": "code",
   "execution_count": 54,
   "id": "educational-lafayette",
   "metadata": {},
   "outputs": [
    {
     "name": "stdout",
     "output_type": "stream",
     "text": [
      "[[0.9992246987063477, 0.04379193401479134, 0.0862314245008161, 0.10572156041386407, 0.06523456793269529, 0.0], [0.04379193401479133, 1.0, 0.01888812427320859, 0.02856300098908031, 0.03998064928250854, 0.03174959583708047], [0.0862314245008161, 0.01888812427320859, 1.0, 0.05938969492473595, 0.1782507613584503, 0.4027609803673046], [0.10572156041386407, 0.02856300098908031, 0.05938969492473595, 1.0, 0.2478568369274664, 0.10247479816880284], [0.06523456793269529, 0.03998064928250854, 0.17825076135845033, 0.24785683692746643, 0.9999999999999998, 0.39686127827738277], [0.0, 0.03174959583708048, 0.4027609803673046, 0.10247479816880284, 0.39686127827738277, 0.9983659264043494]]\n"
     ]
    }
   ],
   "source": [
    "#creating a 6x6 matrix because we have 6 features, and I want to see the relationship between all of the features using the cramers function above\n",
    "matrix = [[cramers_v(df[column], df[column2])for column2 in df_raw_categorical] for column in df_raw_categorical]\n",
    "print(matrix)"
   ]
  },
  {
   "cell_type": "code",
   "execution_count": 55,
   "id": "extensive-consciousness",
   "metadata": {},
   "outputs": [],
   "source": [
    "#making a panda dataframe of the matrix above\n",
    "matrix_correlation = pd.DataFrame(matrix, columns=df_raw_categorical, index=df_raw_categorical)"
   ]
  },
  {
   "cell_type": "code",
   "execution_count": 56,
   "id": "identified-disclaimer",
   "metadata": {},
   "outputs": [
    {
     "data": {
      "image/png": "[encoded data removed]",
      "text/plain": [
       "<Figure size 1152x360 with 2 Axes>"
      ]
     },
     "metadata": {
      "needs_background": "light"
     },
     "output_type": "display_data"
    }
   ],
   "source": [
    "#making a visulatization of the correlation of the catergorical features vs categorical features heatmap. \n",
    "\n",
    "# Generate a mask for the upper triangle\n",
    "mask = np.zeros_like(matrix, dtype=np.bool)\n",
    "mask[np.triu_indices_from(mask)] = True\n",
    "\n",
    "plt.figure(figsize = (16,5))\n",
    "sn.heatmap(matrix_correlation, annot=True, mask=mask, vmax = 1)\n",
    "plt.show()"
   ]
  },
  {
   "cell_type": "markdown",
   "id": "least-excitement",
   "metadata": {},
   "source": [
    "## Observations and findings of analysis"
   ]
  },
  {
   "cell_type": "markdown",
   "id": "japanese-programming",
   "metadata": {},
   "source": [
    "I decided to do a Cramer V analysis of the categorical features which is a measure of association between two nominal variable because most of the features in the dataset are categorical. To find a assosciation / correlation between these, Cramer V does the job.\n",
    "\n",
    "**Results**\n",
    "\n",
    "I decided to check the assosciation of all the categorical features up against each other to see if there are any correlation between the features at all. \n",
    "Interestingly, two of the features had a correlation, although not a very strong correlation, but nonetheless a correlation with the target outcome.\n",
    "\n",
    "- age_group / death_yn: The heatmap is showing that the assosciation between age_group and death_yn (target outcome) is 0.4 out of 1.0. This indicates that there is a correlation between these two features. Apparently, not a strong correlation, but compared to other features this and hosp_yn is actually the strongest correlation we have between two features in this dataset. This means that there is a correlation between death and age_groups, which makes sense. I will continue to look more into this relationships.\n",
    "\n",
    "\n",
    "- hosp_yn: The heatmap is showing that there is a correlation between hosp_yn and death_yn (target outcome). This combination alongside death_yn with age_group are two strongest correlations in this dataset. This means there is a correlation between death and those that are admitted to the hospital. I want to further explore this data to get an better overview of this relationship.\n",
    "\n",
    "\n",
    "- current_status: There is no correlation between the target outcome and this feature.\n",
    "\n",
    "\n",
    "- sex: There is no correlation between the target outcome and this feature.\n",
    "\n",
    "\n",
    "- race_ethnicity_combined: There is no correlation between the target outcome and this feature.\n",
    "\n",
    "\n",
    "Based on this, I will further explore the relationship between age_group and death_yn, and hosp_yn and death_yn.\n"
   ]
  },
  {
   "cell_type": "markdown",
   "id": "abroad-equilibrium",
   "metadata": {},
   "source": [
    "3). [15] Exploring relationships between feature pairs: - Choose a subset of features you find promising and plot pairwise feature interactions (e.g., continuous-continuous feature plot or continuous-categorical plots or correlation plots). Explain your choices. - Discuss your findings from the plots above. Do you find any features or feature combinations that are indicative of the target outcome? Explain in plain words (a short paragraph) the story of your findings so far."
   ]
  },
  {
   "cell_type": "markdown",
   "id": "fatty-heading",
   "metadata": {},
   "source": [
    "### Categorical vs Categorical feature plots"
   ]
  },
  {
   "cell_type": "code",
   "execution_count": 57,
   "id": "christian-cruise",
   "metadata": {},
   "outputs": [
    {
     "name": "stdout",
     "output_type": "stream",
     "text": [
      "age_group\n",
      "Index \t Count\n",
      "40 - 49 Years \t 1469\n",
      "60 - 69 Years \t 1072\n",
      "30 - 39 Years \t 1650\n",
      "10 - 19 Years \t 1055\n",
      "50 - 59 Years \t 1400\n",
      "70 - 79 Years \t 580\n",
      "20 - 29 Years \t 1857\n",
      "80+ Years \t 477\n",
      "0 - 9 Years \t 440\n"
     ]
    },
    {
     "data": {
      "text/plain": [
       "(0.0, 100.0)"
      ]
     },
     "execution_count": 57,
     "metadata": {},
     "output_type": "execute_result"
    },
    {
     "data": {
      "image/png": "[encoded data removed]",
      "text/plain": [
       "<Figure size 1080x504 with 1 Axes>"
      ]
     },
     "metadata": {
      "needs_background": "light"
     },
     "output_type": "display_data"
    }
   ],
   "source": [
    "# Keep a copy of the df_raw for for the purpose of this plot\n",
    "df_plotting = df_raw.copy()\n",
    "\n",
    "#Using code from the module lab\n",
    "age_group = pd.unique(df_plotting[\"age_group\"].ravel())\n",
    "\n",
    "# add new column and set values to zero\n",
    "df_plotting['percent'] = 0\n",
    "\n",
    "\n",
    "#print header\n",
    "print(\"age_group\")\n",
    "print(\"Index \\t Count\")\n",
    "\n",
    "# for each age_group category\n",
    "for i in age_group:\n",
    "    \n",
    "    count = df_plotting[df_plotting[\"age_group\"] == i].count()['death_yn']\n",
    "    count_percentage = (1 / count) * 100\n",
    "        \n",
    "    # print out index vs count\n",
    "    print(i, \"\\t\", count)\n",
    "    \n",
    "    index_list = df_plotting[df_plotting['age_group'] == i].index.tolist()\n",
    "    for ind in index_list:\n",
    "        df_plotting.loc[ind, 'percent'] = count_percentage\n",
    "        \n",
    "group = df_plotting[['percent','age_group','death_yn']].groupby(['age_group','death_yn']).sum()\n",
    "\n",
    "my_plot = group.unstack().plot(kind='bar', stacked=True, title=\"death_yn vs age_group\", figsize=(15,7), grid=True)\n",
    "\n",
    "# add legend\n",
    "#red_patch = mpatches.Patch(color='orange', label='Good')\n",
    "#blue_patch = mpatches.Patch(color='blue', label='Bad')\n",
    "#my_plot.legend(handles=[red_patch, blue_patch], frameon = True)\n",
    "my_plot.legend([\"Survived\", \"Dead\"])\n",
    "    \n",
    "# add gridlines\n",
    "plt.grid(b=True, which='major', color='#666666', linestyle='-')\n",
    "plt.minorticks_on()\n",
    "plt.grid(b=True, which='minor', color='#999999', linestyle='-', alpha=0.2)\n",
    "\n",
    "my_plot.set_xlabel(\"Age Groups\")\n",
    "my_plot.set_ylabel(\"% Death\")\n",
    "my_plot.set_ylim([0,100])"
   ]
  },
  {
   "cell_type": "markdown",
   "id": "quick-composer",
   "metadata": {},
   "source": [
    "**Result / Observation**\n",
    "\n",
    "Earlier, we saw that death_yn and age_group had a correlations, when exploring this relationship further we can see see in this plot that death rate increases with age_group. \n",
    "\n",
    "- There is a clear trend of increasing likelihood of death outcome as age_group increase. \n",
    "\n",
    "- From age group 50-59 the death rate increase dramatically for each hop. \n",
    "- There is a higher probability of the target outcome with older age groups. That is illustrated by the last three bars which show a dramatic increase in death rate for the group 60-69 where it is 5%, and for 70-79 the death rate increase to around 13%. For the oldest group (80+) the death rate is as high as around 30%. \n",
    "- Judging from this, we see a clear indication that the older the age_group the more likely the person will die from COVID-19. \n",
    "- In summary, based on this plot we can assume that the death rate for people aged 0-49 is relatively low, however the death rate increase from 50 to 80+. The older the person, the more dramatic the death rate increases. "
   ]
  },
  {
   "cell_type": "code",
   "execution_count": 58,
   "id": "alpha-cisco",
   "metadata": {},
   "outputs": [
    {
     "data": {
      "text/plain": [
       "age_group      death_yn\n",
       "0 - 9 Years    No           440\n",
       "10 - 19 Years  No          1055\n",
       "20 - 29 Years  No          1856\n",
       "               Yes            1\n",
       "30 - 39 Years  No          1646\n",
       "               Yes            4\n",
       "40 - 49 Years  No          1460\n",
       "               Yes            9\n",
       "50 - 59 Years  No          1378\n",
       "               Yes           22\n",
       "60 - 69 Years  No          1018\n",
       "               Yes           54\n",
       "70 - 79 Years  No           503\n",
       "               Yes           77\n",
       "80+ Years      No           328\n",
       "               Yes          149\n",
       "Name: death_yn, dtype: int64"
      ]
     },
     "execution_count": 58,
     "metadata": {},
     "output_type": "execute_result"
    }
   ],
   "source": [
    "df_raw.groupby('age_group')['death_yn'].value_counts()"
   ]
  },
  {
   "cell_type": "code",
   "execution_count": 59,
   "id": "mounted-kidney",
   "metadata": {},
   "outputs": [
    {
     "name": "stdout",
     "output_type": "stream",
     "text": [
      "hosp_yn\n",
      "Index \t Count\n",
      "No \t 7554\n",
      "Unknown \t 1792\n",
      "Yes \t 654\n"
     ]
    },
    {
     "data": {
      "text/plain": [
       "(0.0, 100.0)"
      ]
     },
     "execution_count": 59,
     "metadata": {},
     "output_type": "execute_result"
    },
    {
     "data": {
      "image/png": "[encoded data removed]",
      "text/plain": [
       "<Figure size 1080x504 with 1 Axes>"
      ]
     },
     "metadata": {
      "needs_background": "light"
     },
     "output_type": "display_data"
    }
   ],
   "source": [
    "#Using code from the module lab\n",
    "hosp_yn = pd.unique(df_plotting[\"hosp_yn\"].ravel())\n",
    "\n",
    "# add new column and set values to zero\n",
    "df_plotting['percent_hosp'] = 0\n",
    "\n",
    "#print header\n",
    "print(\"hosp_yn\")\n",
    "print(\"Index \\t Count\")\n",
    "\n",
    "# for each hosp_yn category\n",
    "for i in hosp_yn:\n",
    "    \n",
    "    count = df_plotting[df_plotting[\"hosp_yn\"] == i].count()['death_yn']\n",
    "    count_percentage = (1 / count) * 100\n",
    "        \n",
    "    # print out index vs count\n",
    "    print(i, \"\\t\", count)\n",
    "    \n",
    "    index_list = df_plotting[df_plotting['hosp_yn'] == i].index.tolist()\n",
    "    for ind in index_list:\n",
    "        df_plotting.loc[ind, 'percent_hosp'] = count_percentage\n",
    "        \n",
    "group = df_plotting[['percent_hosp','hosp_yn','death_yn']].groupby(['hosp_yn','death_yn']).sum()\n",
    "\n",
    "my_plot = group.unstack().plot(kind='bar', stacked=True, title=\"death_yn vs hosp_yn\", figsize=(15,7), grid=True)\n",
    "\n",
    "# add legend\n",
    "#red_patch = mpatches.Patch(color='orange', label='Good')\n",
    "#blue_patch = mpatches.Patch(color='blue', label='Bad')\n",
    "#my_plot.legend(handles=[red_patch, blue_patch], frameon = True)\n",
    "my_plot.legend([\"Survived\", \"Dead\"])\n",
    "    \n",
    "# add gridlines\n",
    "plt.grid(b=True, which='major', color='#666666', linestyle='-')\n",
    "plt.minorticks_on()\n",
    "plt.grid(b=True, which='minor', color='#999999', linestyle='-', alpha=0.2)\n",
    "\n",
    "my_plot.set_xlabel(\"Hospitalized\")\n",
    "my_plot.set_ylabel(\"% Death\")\n",
    "my_plot.set_ylim([0,100])"
   ]
  },
  {
   "cell_type": "markdown",
   "id": "jewish-entry",
   "metadata": {},
   "source": [
    "**Result / Observation**\n",
    "\n",
    "We can see the stacked bar plot for Hospitalization against the target outcome (death).\n",
    "\n",
    "- The result make sense. We can observe that the category \"No\" and \"Unknown\" has a low death rate, whereas people that were hospitalized has a much higher death rate. \n",
    "\n",
    "- Death rate for category \"Yes\" is approx. 30%, while \"No\" has a death rate of around 1%, and \"Unknown\" of around 2%.\n",
    "\n",
    "- We can observer that category \"Unknown\" is much closer to \"No\" than \"Yes\" in terms of death rate. One could assume that these \"Unknown\" people most likely were not hospitalized. However, the death rate for Unknown is approx. double of \"No\". In that sense it is a quite \"big\" difference from the two, and it makes sense to have \"Unknown\" as an own group.\n",
    "\n",
    "- In summary\n",
    "    - This indicates that if a person is hospitalized, the likelihood of that person dying is significant larger than otherwise. \n",
    "    - The difference in death rate for people that were not hospitalized vs \"Unknown\" is almost double. "
   ]
  },
  {
   "cell_type": "markdown",
   "id": "competitive-coverage",
   "metadata": {},
   "source": [
    "## Continous vs Categorical feature plot"
   ]
  },
  {
   "cell_type": "code",
   "execution_count": 60,
   "id": "removable-olive",
   "metadata": {},
   "outputs": [],
   "source": [
    "#Making a new dataframe with year and Months from cdc_case_earliest_dt\n",
    "df_raw['yearMonth'] = df_raw['cdc_case_earliest_dt'].dt.strftime('%Y-%m')"
   ]
  },
  {
   "cell_type": "code",
   "execution_count": 61,
   "id": "traditional-andrews",
   "metadata": {},
   "outputs": [],
   "source": [
    "#making a dataframe with year/months and how many deaths occured on this each month\n",
    "df_death = df_raw[df_raw['death_yn'] == 'Yes'].groupby('yearMonth').size().to_frame('deaths')"
   ]
  },
  {
   "cell_type": "code",
   "execution_count": 62,
   "id": "first-pregnancy",
   "metadata": {},
   "outputs": [
    {
     "data": {
      "text/html": [
       "<div>\n",
       "<style scoped>\n",
       "    .dataframe tbody tr th:only-of-type {\n",
       "        vertical-align: middle;\n",
       "    }\n",
       "\n",
       "    .dataframe tbody tr th {\n",
       "        vertical-align: top;\n",
       "    }\n",
       "\n",
       "    .dataframe thead th {\n",
       "        text-align: right;\n",
       "    }\n",
       "</style>\n",
       "<table border=\"1\" class=\"dataframe\">\n",
       "  <thead>\n",
       "    <tr style=\"text-align: right;\">\n",
       "      <th></th>\n",
       "      <th>deaths</th>\n",
       "    </tr>\n",
       "    <tr>\n",
       "      <th>yearMonth</th>\n",
       "      <th></th>\n",
       "    </tr>\n",
       "  </thead>\n",
       "  <tbody>\n",
       "    <tr>\n",
       "      <th>2020-03</th>\n",
       "      <td>20</td>\n",
       "    </tr>\n",
       "    <tr>\n",
       "      <th>2020-04</th>\n",
       "      <td>81</td>\n",
       "    </tr>\n",
       "    <tr>\n",
       "      <th>2020-05</th>\n",
       "      <td>26</td>\n",
       "    </tr>\n",
       "    <tr>\n",
       "      <th>2020-06</th>\n",
       "      <td>14</td>\n",
       "    </tr>\n",
       "    <tr>\n",
       "      <th>2020-07</th>\n",
       "      <td>18</td>\n",
       "    </tr>\n",
       "    <tr>\n",
       "      <th>2020-08</th>\n",
       "      <td>20</td>\n",
       "    </tr>\n",
       "    <tr>\n",
       "      <th>2020-09</th>\n",
       "      <td>12</td>\n",
       "    </tr>\n",
       "    <tr>\n",
       "      <th>2020-10</th>\n",
       "      <td>25</td>\n",
       "    </tr>\n",
       "    <tr>\n",
       "      <th>2020-11</th>\n",
       "      <td>34</td>\n",
       "    </tr>\n",
       "    <tr>\n",
       "      <th>2020-12</th>\n",
       "      <td>55</td>\n",
       "    </tr>\n",
       "    <tr>\n",
       "      <th>2021-01</th>\n",
       "      <td>11</td>\n",
       "    </tr>\n",
       "  </tbody>\n",
       "</table>\n",
       "</div>"
      ],
      "text/plain": [
       "           deaths\n",
       "yearMonth        \n",
       "2020-03        20\n",
       "2020-04        81\n",
       "2020-05        26\n",
       "2020-06        14\n",
       "2020-07        18\n",
       "2020-08        20\n",
       "2020-09        12\n",
       "2020-10        25\n",
       "2020-11        34\n",
       "2020-12        55\n",
       "2021-01        11"
      ]
     },
     "execution_count": 62,
     "metadata": {},
     "output_type": "execute_result"
    }
   ],
   "source": [
    "#checking to see if dataframe was successful\n",
    "df_death"
   ]
  },
  {
   "cell_type": "code",
   "execution_count": 63,
   "id": "identified-costume",
   "metadata": {},
   "outputs": [
    {
     "data": {
      "text/plain": [
       "<seaborn.axisgrid.FacetGrid at 0x7f96b961fac0>"
      ]
     },
     "execution_count": 63,
     "metadata": {},
     "output_type": "execute_result"
    },
    {
     "data": {
      "image/png": "[encoded data removed]",
      "text/plain": [
       "<Figure size 1080x360 with 1 Axes>"
      ]
     },
     "metadata": {
      "needs_background": "light"
     },
     "output_type": "display_data"
    }
   ],
   "source": [
    "#plotting the amount of deaths for each particular month \n",
    "sn.relplot(x='yearMonth', y='deaths', data=df_death, height=5, aspect=3, kind='line')"
   ]
  },
  {
   "cell_type": "markdown",
   "id": "respected-damages",
   "metadata": {},
   "source": [
    "**Observations**\n",
    "\n",
    "- We can see from the above graph that there is a spike of deaths around April 2020. After this, it decreases and starts rising again from September 2019. In January 2021 we see a heavy decline in death counts, however  \n",
    "\n",
    "- Highest death count was in April 2020.\n",
    "- Lowest death count was in September 2020.\n",
    "- There are two spikes we can observe, one in April 2020, and the second December 2020.\n",
    "- In January 2021 we see a heavy decline in death counts, however the reason for that is the data dates to 16.01.2020 (max). So cases were not collected for the whole month.\n"
   ]
  },
  {
   "cell_type": "code",
   "execution_count": 64,
   "id": "unusual-holmes",
   "metadata": {},
   "outputs": [
    {
     "data": {
      "text/plain": [
       "cdc_case_earliest_dt       1212\n",
       "current_status             1212\n",
       "sex                        1212\n",
       "age_group                  1212\n",
       "race_ethnicity_combined    1212\n",
       "hosp_yn                    1212\n",
       "death_yn                   1212\n",
       "yearMonth                  1212\n",
       "dtype: int64"
      ]
     },
     "execution_count": 64,
     "metadata": {},
     "output_type": "execute_result"
    }
   ],
   "source": [
    "df_raw[df_raw['yearMonth'] == '2021-01'].count()"
   ]
  },
  {
   "cell_type": "code",
   "execution_count": 65,
   "id": "binary-hampshire",
   "metadata": {},
   "outputs": [
    {
     "data": {
      "text/plain": [
       "<seaborn.axisgrid.FacetGrid at 0x7f96b961fd90>"
      ]
     },
     "execution_count": 65,
     "metadata": {},
     "output_type": "execute_result"
    },
    {
     "data": {
      "image/png": "[encoded data removed]",
      "text/plain": [
       "<Figure size 1080x360 with 1 Axes>"
      ]
     },
     "metadata": {
      "needs_background": "light"
     },
     "output_type": "display_data"
    }
   ],
   "source": [
    "#making a similar dataframe as above to plot the development of covid-19 cases for each month\n",
    "df_corona = df_raw[df_raw['current_status'] == 'Laboratory-confirmed case'].groupby('yearMonth').size().to_frame('cases')\n",
    "df_corona = df_corona.reset_index()\n",
    "#sn.catplot(x='yearMonth', y='size', data=df_corona, height=4, aspect=3)\n",
    "#plotting the graph\n",
    "sn.relplot(x='yearMonth', y='cases', data=df_corona, height=5, aspect=3, kind='line')\n",
    "           "
   ]
  },
  {
   "cell_type": "markdown",
   "id": "accessible-kansas",
   "metadata": {},
   "source": [
    "**Observations**\n",
    "\n",
    "We can see from the above graph the development of labratory confirmed cases over time. \n",
    "\n",
    "- My first observation is that this graph and the death graph are not directly correlated. Above we had two spikes, where the first spike was April 2020, and then death counts decreased. While on this graph the cases increase steady. However, we do see a spike in both graphs in December 2020 which makes sense. \n",
    "- In summary\n",
    "    - we can see a steady increase in cases over time\n",
    "    - We only have one big spike, compared to death graph from earlier which has 2.\n"
   ]
  },
  {
   "cell_type": "markdown",
   "id": "infinite-steering",
   "metadata": {},
   "source": [
    "## - Discuss your findings from the plots above. Do you find any features or feature combinations that are indicative of the target outcome (i.e., churn)? Explain in plain words (a short paragraph) the story of your findings so far.¶"
   ]
  },
  {
   "cell_type": "markdown",
   "id": "patent-taylor",
   "metadata": {},
   "source": [
    "- Categorical vs Categorical\n",
    "    - I picked two of the categorical features that I would expect to have a relation to the target outcome. The result were also confirming that it indeed has a strong connection to each other. \n",
    "    - I saw a connection between death rate and hospitalization. I saw that there was a death rate of almost 30% for people that were hospitalized compared to 1% death rate to people that were not hospitalized. \n",
    "    - This does not give us much additional information, only that there is a much higher chance of the target outcome (death) if people are hospitalized. \n",
    "    - I saw a connection between age groups and death. We could see the likelihood of death increased significantly with increasing age from 50 and upwards. \n",
    "    - The death rate for 80+ was 30% compared to 50-59 age group where the date rate is approx 3%. \n",
    " \n",
    "\n",
    "- Continuous vs Categorical\n",
    "    - I decided to look at the dates in the dataset together with both deaths and confirmed cases. \n",
    "    - For the death graph, we could see two spikes, one in the early months of 2020, and another spike in the end of 2020.\n",
    "    - For the confirmed cases graph, I observed only one spike, which was in the end of 2020. However, the cases were almost continously increasing month to month. \n",
    "    - So from these two graphs, we can see that even though we had increasing confirmed cases month to month, the death rate did not increase in the same ratio. \n"
   ]
  },
  {
   "cell_type": "markdown",
   "id": "instant-spirit",
   "metadata": {},
   "source": [
    "# (4). Transform, extend or combine the existing features to create a few new features (at least 3)\n",
    "Aim to better capture the problem domain and the target outcome. Justify the steps and choices you are making. Add these features to your clean dataset and save it as a CSV file with a self explanatory name."
   ]
  },
  {
   "cell_type": "markdown",
   "id": "spatial-chassis",
   "metadata": {},
   "source": [
    "#### **New feature 1**\n",
    "- hosp_sex: Measures Hospitalisation rate based on sex.\n",
    "- Will allow us to break down the hospitalization based on sex, which allows us to identify any differences between death and this new category/feature.\n",
    " "
   ]
  },
  {
   "cell_type": "code",
   "execution_count": 66,
   "id": "burning-expansion",
   "metadata": {},
   "outputs": [],
   "source": [
    "#making a new feature combining hosp_yn and sex\n",
    "df_raw['hosp_sex'] = df_raw[['hosp_yn', 'sex']].apply(lambda x: ','.join(x.dropna().astype(str)), axis=1)"
   ]
  },
  {
   "cell_type": "code",
   "execution_count": 67,
   "id": "specialized-mailing",
   "metadata": {},
   "outputs": [
    {
     "name": "stdout",
     "output_type": "stream",
     "text": [
      "hosp_sex\n",
      "Index \t Count\n",
      "No,Male \t 3541\n",
      "No,Female \t 3970\n",
      "Unknown,Male \t 819\n",
      "Yes,Male \t 346\n",
      "Unknown,Female \t 951\n",
      "Yes,Female \t 307\n",
      "No,Unknown \t 43\n",
      "Unknown,Unknown \t 22\n",
      "Yes,Unknown \t 1\n"
     ]
    },
    {
     "data": {
      "text/plain": [
       "(0.0, 100.0)"
      ]
     },
     "execution_count": 67,
     "metadata": {},
     "output_type": "execute_result"
    },
    {
     "data": {
      "image/png": "[encoded data removed]",
      "text/plain": [
       "<Figure size 1080x504 with 1 Axes>"
      ]
     },
     "metadata": {
      "needs_background": "light"
     },
     "output_type": "display_data"
    }
   ],
   "source": [
    "#Using code from the module lab\n",
    "hosp_sex = pd.unique(df_raw[\"hosp_sex\"].ravel())\n",
    "\n",
    "# add new column and set values to zero\n",
    "df_raw['percent_hosp_sex'] = 0\n",
    "\n",
    "#print header\n",
    "print(\"hosp_sex\")\n",
    "print(\"Index \\t Count\")\n",
    "\n",
    "# for each hosp_sex category\n",
    "for i in hosp_sex:\n",
    "    \n",
    "    count = df_raw[df_raw[\"hosp_sex\"] == i].count()['death_yn']\n",
    "    count_percentage = (1 / count) * 100\n",
    "        \n",
    "    # print out index vs count\n",
    "    print(i, \"\\t\", count)\n",
    "    \n",
    "    index_list = df_raw[df_raw['hosp_sex'] == i].index.tolist()\n",
    "    for ind in index_list:\n",
    "        df_raw.loc[ind, 'percent_hosp_sex'] = count_percentage\n",
    "        \n",
    "group = df_raw[['percent_hosp_sex','hosp_sex','death_yn']].groupby(['hosp_sex','death_yn']).sum()\n",
    "\n",
    "my_plot = group.unstack().plot(kind='bar', stacked=True, title=\"hosp_sex vs death_yn\", figsize=(15,7), grid=True)\n",
    "\n",
    "# add legend\n",
    "#red_patch = mpatches.Patch(color='orange', label='Good')\n",
    "#blue_patch = mpatches.Patch(color='blue', label='Bad')\n",
    "#my_plot.legend(handles=[red_patch, blue_patch], frameon = True)\n",
    "my_plot.legend([\"Survived\", \"Dead\"])\n",
    "    \n",
    "# add gridlines\n",
    "plt.grid(b=True, which='major', color='#666666', linestyle='-')\n",
    "plt.minorticks_on()\n",
    "plt.grid(b=True, which='minor', color='#999999', linestyle='-', alpha=0.2)\n",
    "\n",
    "my_plot.set_xlabel(\"Hospitalized based on sex\")\n",
    "my_plot.set_ylabel(\"% Death\")\n",
    "my_plot.set_ylim([0,100])"
   ]
  },
  {
   "cell_type": "markdown",
   "id": "moved-greeting",
   "metadata": {},
   "source": [
    "#### **New feature 2** \n",
    "- age_sex : Measures death rate for individual age_groups based on sex.\n",
    "- Will allow us to break down the death rate of age groups within sex, to see if there any significant differences between death and sex for different age groups.\n",
    "- In the first hosp_sex we identified that there are in general more males that die after being hospitalised, however the death rate is approx the same for both sexes when they are not hospitalised. In this new feature, I want to look into if there are any differences in death rate for sexes in different age groups."
   ]
  },
  {
   "cell_type": "code",
   "execution_count": 68,
   "id": "union-consumption",
   "metadata": {},
   "outputs": [],
   "source": [
    "#making a new feature combining age_group and sex\n",
    "df_raw['age_sex'] = df_raw[['age_group', 'sex']].apply(lambda x: ','.join(x.dropna().astype(str)), axis=1)"
   ]
  },
  {
   "cell_type": "code",
   "execution_count": 69,
   "id": "nuclear-blond",
   "metadata": {},
   "outputs": [
    {
     "name": "stdout",
     "output_type": "stream",
     "text": [
      "age_sex\n",
      "Index \t Count\n",
      "40 - 49 Years,Male \t 650\n",
      "60 - 69 Years,Male \t 517\n",
      "30 - 39 Years,Female \t 855\n",
      "10 - 19 Years,Male \t 503\n",
      "50 - 59 Years,Female \t 723\n",
      "70 - 79 Years,Male \t 301\n",
      "20 - 29 Years,Female \t 988\n",
      "10 - 19 Years,Female \t 543\n",
      "40 - 49 Years,Female \t 809\n",
      "30 - 39 Years,Male \t 788\n",
      "20 - 29 Years,Male \t 854\n",
      "60 - 69 Years,Female \t 549\n",
      "80+ Years,Female \t 279\n",
      "0 - 9 Years,Male \t 231\n",
      "50 - 59 Years,Male \t 667\n",
      "70 - 79 Years,Female \t 275\n",
      "20 - 29 Years,Unknown \t 15\n",
      "80+ Years,Male \t 195\n",
      "0 - 9 Years,Female \t 207\n",
      "50 - 59 Years,Unknown \t 10\n",
      "40 - 49 Years,Unknown \t 10\n",
      "70 - 79 Years,Unknown \t 4\n",
      "80+ Years,Unknown \t 3\n",
      "30 - 39 Years,Unknown \t 7\n",
      "10 - 19 Years,Unknown \t 9\n",
      "0 - 9 Years,Unknown \t 2\n",
      "60 - 69 Years,Unknown \t 6\n"
     ]
    },
    {
     "data": {
      "text/plain": [
       "(0.0, 100.0)"
      ]
     },
     "execution_count": 69,
     "metadata": {},
     "output_type": "execute_result"
    },
    {
     "data": {
      "image/png": "[encoded data removed]",
      "text/plain": [
       "<Figure size 1080x504 with 1 Axes>"
      ]
     },
     "metadata": {
      "needs_background": "light"
     },
     "output_type": "display_data"
    }
   ],
   "source": [
    "#Using code from the module lab\n",
    "age_sex = pd.unique(df_raw[\"age_sex\"].ravel())\n",
    "\n",
    "# add new column and set values to zero\n",
    "df_raw['percent_age_sex'] = 0\n",
    "\n",
    "#print header\n",
    "print(\"age_sex\")\n",
    "print(\"Index \\t Count\")\n",
    "\n",
    "# for each age_sex category\n",
    "for i in age_sex:\n",
    "    \n",
    "    count = df_raw[df_raw[\"age_sex\"] == i].count()['death_yn']\n",
    "    count_percentage = (1 / count) * 100\n",
    "        \n",
    "    # print out index vs count\n",
    "    print(i, \"\\t\", count)\n",
    "    \n",
    "    index_list = df_raw[df_raw['age_sex'] == i].index.tolist()\n",
    "    for ind in index_list:\n",
    "        df_raw.loc[ind, 'percent_age_sex'] = count_percentage\n",
    "        \n",
    "group = df_raw[['percent_age_sex','age_sex','death_yn']].groupby(['age_sex','death_yn']).sum()\n",
    "\n",
    "my_plot = group.unstack().plot(kind='bar', stacked=True, title=\"age_sex vs hosp_yn\", figsize=(15,7), grid=True)\n",
    "\n",
    "# add legend\n",
    "#red_patch = mpatches.Patch(color='orange', label='Good')\n",
    "#blue_patch = mpatches.Patch(color='blue', label='Bad')\n",
    "#my_plot.legend(handles=[red_patch, blue_patch], frameon = True)\n",
    "my_plot.legend([\"Survived\", \"Dead\"])\n",
    "    \n",
    "# add gridlines\n",
    "plt.grid(b=True, which='major', color='#666666', linestyle='-')\n",
    "plt.minorticks_on()\n",
    "plt.grid(b=True, which='minor', color='#999999', linestyle='-', alpha=0.2)\n",
    "\n",
    "my_plot.set_xlabel(\"age_groups by sex\")\n",
    "my_plot.set_ylabel(\"% Death\")\n",
    "my_plot.set_ylim([0,100])"
   ]
  },
  {
   "cell_type": "markdown",
   "id": "optical-affiliation",
   "metadata": {},
   "source": [
    "# "
   ]
  },
  {
   "cell_type": "markdown",
   "id": "proper-annual",
   "metadata": {},
   "source": [
    "#### **New feature 3** \n",
    "- race_ethnicity_sex : Measures death rate for race_ethnicity_combined by sex. \n",
    "- This allows us to break down the death rate for this category, to try identify if there are any significant differences for race_ethnicity by sex. In the other new feature we identified that the death rate is higher for males and females. In this new feauture, we look deeper into that to see if race_ethnicity has an impact.\n",
    "- This derived feature brings up number of questions that will need to be address by the domain expert. "
   ]
  },
  {
   "cell_type": "code",
   "execution_count": 70,
   "id": "separate-closing",
   "metadata": {},
   "outputs": [],
   "source": [
    "#making a new feature combining race_ethnicity and sex\n",
    "df_raw['race_ethnicity_sex'] = df_raw[['race_ethnicity_combined', 'sex']].apply(lambda x: ','.join(x.dropna().astype(str)), axis=1)"
   ]
  },
  {
   "cell_type": "code",
   "execution_count": 71,
   "id": "abandoned-balance",
   "metadata": {},
   "outputs": [
    {
     "name": "stdout",
     "output_type": "stream",
     "text": [
      "race_ethnicity_sex\n",
      "Index \t Count\n",
      "White, Non-Hispanic,Male \t 1571\n",
      "Unknown,Female \t 2109\n",
      "Unknown,Male \t 1973\n",
      "White, Non-Hispanic,Female \t 1762\n",
      "Black, Non-Hispanic,Male \t 294\n",
      "Multiple/Other, Non-Hispanic,Male \t 219\n",
      "Hispanic/Latino,Female \t 553\n",
      "Hispanic/Latino,Male \t 482\n",
      "Black, Non-Hispanic,Female \t 400\n",
      "Asian, Non-Hispanic,Female \t 115\n",
      "Multiple/Other, Non-Hispanic,Unknown \t 4\n",
      "Asian, Non-Hispanic,Male \t 131\n",
      "Multiple/Other, Non-Hispanic,Female \t 253\n",
      "American Indian/Alaska Native, Non-Hispanic,Male \t 31\n",
      "Unknown,Unknown \t 47\n",
      "Native Hawaiian/Other Pacific Islander, Non-Hispanic,Female \t 7\n",
      "American Indian/Alaska Native, Non-Hispanic,Female \t 29\n",
      "White, Non-Hispanic,Unknown \t 11\n",
      "Hispanic/Latino,Unknown \t 1\n",
      "Native Hawaiian/Other Pacific Islander, Non-Hispanic,Male \t 5\n",
      "Asian, Non-Hispanic,Unknown \t 3\n"
     ]
    },
    {
     "data": {
      "text/plain": [
       "(0.0, 100.0)"
      ]
     },
     "execution_count": 71,
     "metadata": {},
     "output_type": "execute_result"
    },
    {
     "data": {
      "image/png": "[encoded data removed]",
      "text/plain": [
       "<Figure size 1080x504 with 1 Axes>"
      ]
     },
     "metadata": {
      "needs_background": "light"
     },
     "output_type": "display_data"
    }
   ],
   "source": [
    "#Using code from the module lab\n",
    "race_ethnicity_sex = pd.unique(df_raw[\"race_ethnicity_sex\"].ravel())\n",
    "\n",
    "# add new column and set values to zero\n",
    "df_raw['percent_race_ethnicity_sex'] = 0\n",
    "\n",
    "#print header\n",
    "print(\"race_ethnicity_sex\")\n",
    "print(\"Index \\t Count\")\n",
    "\n",
    "# for each race_ethnicity_sex category\n",
    "for i in race_ethnicity_sex:\n",
    "    \n",
    "    count = df_raw[df_raw[\"race_ethnicity_sex\"] == i].count()['death_yn']\n",
    "    count_percentage = (1 / count) * 100\n",
    "        \n",
    "    # print out index vs count\n",
    "    print(i, \"\\t\", count)\n",
    "    \n",
    "    index_list = df_raw[df_raw['race_ethnicity_sex'] == i].index.tolist()\n",
    "    for ind in index_list:\n",
    "        df_raw.loc[ind, 'percent_race_ethnicity_sex'] = count_percentage\n",
    "        \n",
    "group = df_raw[['percent_race_ethnicity_sex','race_ethnicity_sex','death_yn']].groupby(['race_ethnicity_sex','death_yn']).sum()\n",
    "\n",
    "my_plot = group.unstack().plot(kind='bar', stacked=True, title=\"race_ethnicity_sex vs death_yn\", figsize=(15,7), grid=True)\n",
    "\n",
    "# add legend\n",
    "#red_patch = mpatches.Patch(color='orange', label='Good')\n",
    "#blue_patch = mpatches.Patch(color='blue', label='Bad')\n",
    "#my_plot.legend(handles=[red_patch, blue_patch], frameon = True)\n",
    "my_plot.legend([\"Survived\", \"Dead\"])\n",
    "    \n",
    "# add gridlines\n",
    "plt.grid(b=True, which='major', color='#666666', linestyle='-')\n",
    "plt.minorticks_on()\n",
    "plt.grid(b=True, which='minor', color='#999999', linestyle='-', alpha=0.2)\n",
    "\n",
    "my_plot.set_xlabel(\"race_ethnicity_combined_with_sex\")\n",
    "my_plot.set_ylabel(\"% Death\")\n",
    "my_plot.set_ylim([0,100])"
   ]
  },
  {
   "cell_type": "code",
   "execution_count": 72,
   "id": "private-contribution",
   "metadata": {},
   "outputs": [
    {
     "data": {
      "text/html": [
       "<div>\n",
       "<style scoped>\n",
       "    .dataframe tbody tr th:only-of-type {\n",
       "        vertical-align: middle;\n",
       "    }\n",
       "\n",
       "    .dataframe tbody tr th {\n",
       "        vertical-align: top;\n",
       "    }\n",
       "\n",
       "    .dataframe thead th {\n",
       "        text-align: right;\n",
       "    }\n",
       "</style>\n",
       "<table border=\"1\" class=\"dataframe\">\n",
       "  <thead>\n",
       "    <tr style=\"text-align: right;\">\n",
       "      <th></th>\n",
       "      <th>cdc_case_earliest_dt</th>\n",
       "      <th>current_status</th>\n",
       "      <th>sex</th>\n",
       "      <th>age_group</th>\n",
       "      <th>race_ethnicity_combined</th>\n",
       "      <th>hosp_yn</th>\n",
       "      <th>death_yn</th>\n",
       "      <th>yearMonth</th>\n",
       "      <th>hosp_sex</th>\n",
       "      <th>percent_hosp_sex</th>\n",
       "      <th>age_sex</th>\n",
       "      <th>percent_age_sex</th>\n",
       "      <th>race_ethnicity_sex</th>\n",
       "      <th>percent_race_ethnicity_sex</th>\n",
       "    </tr>\n",
       "  </thead>\n",
       "  <tbody>\n",
       "    <tr>\n",
       "      <th>0</th>\n",
       "      <td>2020-12-30</td>\n",
       "      <td>Laboratory-confirmed case</td>\n",
       "      <td>Male</td>\n",
       "      <td>40 - 49 Years</td>\n",
       "      <td>White, Non-Hispanic</td>\n",
       "      <td>No</td>\n",
       "      <td>No</td>\n",
       "      <td>2020-12</td>\n",
       "      <td>No,Male</td>\n",
       "      <td>0.028241</td>\n",
       "      <td>40 - 49 Years,Male</td>\n",
       "      <td>0.153846</td>\n",
       "      <td>White, Non-Hispanic,Male</td>\n",
       "      <td>0.063654</td>\n",
       "    </tr>\n",
       "    <tr>\n",
       "      <th>1</th>\n",
       "      <td>2020-12-21</td>\n",
       "      <td>Laboratory-confirmed case</td>\n",
       "      <td>Male</td>\n",
       "      <td>60 - 69 Years</td>\n",
       "      <td>White, Non-Hispanic</td>\n",
       "      <td>No</td>\n",
       "      <td>No</td>\n",
       "      <td>2020-12</td>\n",
       "      <td>No,Male</td>\n",
       "      <td>0.028241</td>\n",
       "      <td>60 - 69 Years,Male</td>\n",
       "      <td>0.193424</td>\n",
       "      <td>White, Non-Hispanic,Male</td>\n",
       "      <td>0.063654</td>\n",
       "    </tr>\n",
       "    <tr>\n",
       "      <th>2</th>\n",
       "      <td>2020-11-20</td>\n",
       "      <td>Probable Case</td>\n",
       "      <td>Female</td>\n",
       "      <td>30 - 39 Years</td>\n",
       "      <td>Unknown</td>\n",
       "      <td>No</td>\n",
       "      <td>No</td>\n",
       "      <td>2020-11</td>\n",
       "      <td>No,Female</td>\n",
       "      <td>0.025189</td>\n",
       "      <td>30 - 39 Years,Female</td>\n",
       "      <td>0.116959</td>\n",
       "      <td>Unknown,Female</td>\n",
       "      <td>0.047416</td>\n",
       "    </tr>\n",
       "    <tr>\n",
       "      <th>3</th>\n",
       "      <td>2020-12-17</td>\n",
       "      <td>Laboratory-confirmed case</td>\n",
       "      <td>Male</td>\n",
       "      <td>10 - 19 Years</td>\n",
       "      <td>Unknown</td>\n",
       "      <td>Unknown</td>\n",
       "      <td>No</td>\n",
       "      <td>2020-12</td>\n",
       "      <td>Unknown,Male</td>\n",
       "      <td>0.122100</td>\n",
       "      <td>10 - 19 Years,Male</td>\n",
       "      <td>0.198807</td>\n",
       "      <td>Unknown,Male</td>\n",
       "      <td>0.050684</td>\n",
       "    </tr>\n",
       "    <tr>\n",
       "      <th>4</th>\n",
       "      <td>2020-04-24</td>\n",
       "      <td>Laboratory-confirmed case</td>\n",
       "      <td>Female</td>\n",
       "      <td>50 - 59 Years</td>\n",
       "      <td>White, Non-Hispanic</td>\n",
       "      <td>No</td>\n",
       "      <td>No</td>\n",
       "      <td>2020-04</td>\n",
       "      <td>No,Female</td>\n",
       "      <td>0.025189</td>\n",
       "      <td>50 - 59 Years,Female</td>\n",
       "      <td>0.138313</td>\n",
       "      <td>White, Non-Hispanic,Female</td>\n",
       "      <td>0.056754</td>\n",
       "    </tr>\n",
       "    <tr>\n",
       "      <th>...</th>\n",
       "      <td>...</td>\n",
       "      <td>...</td>\n",
       "      <td>...</td>\n",
       "      <td>...</td>\n",
       "      <td>...</td>\n",
       "      <td>...</td>\n",
       "      <td>...</td>\n",
       "      <td>...</td>\n",
       "      <td>...</td>\n",
       "      <td>...</td>\n",
       "      <td>...</td>\n",
       "      <td>...</td>\n",
       "      <td>...</td>\n",
       "      <td>...</td>\n",
       "    </tr>\n",
       "    <tr>\n",
       "      <th>9995</th>\n",
       "      <td>2020-11-01</td>\n",
       "      <td>Laboratory-confirmed case</td>\n",
       "      <td>Male</td>\n",
       "      <td>30 - 39 Years</td>\n",
       "      <td>White, Non-Hispanic</td>\n",
       "      <td>No</td>\n",
       "      <td>No</td>\n",
       "      <td>2020-11</td>\n",
       "      <td>No,Male</td>\n",
       "      <td>0.028241</td>\n",
       "      <td>30 - 39 Years,Male</td>\n",
       "      <td>0.126904</td>\n",
       "      <td>White, Non-Hispanic,Male</td>\n",
       "      <td>0.063654</td>\n",
       "    </tr>\n",
       "    <tr>\n",
       "      <th>9996</th>\n",
       "      <td>2020-10-04</td>\n",
       "      <td>Laboratory-confirmed case</td>\n",
       "      <td>Male</td>\n",
       "      <td>60 - 69 Years</td>\n",
       "      <td>White, Non-Hispanic</td>\n",
       "      <td>No</td>\n",
       "      <td>No</td>\n",
       "      <td>2020-10</td>\n",
       "      <td>No,Male</td>\n",
       "      <td>0.028241</td>\n",
       "      <td>60 - 69 Years,Male</td>\n",
       "      <td>0.193424</td>\n",
       "      <td>White, Non-Hispanic,Male</td>\n",
       "      <td>0.063654</td>\n",
       "    </tr>\n",
       "    <tr>\n",
       "      <th>9997</th>\n",
       "      <td>2020-05-26</td>\n",
       "      <td>Laboratory-confirmed case</td>\n",
       "      <td>Male</td>\n",
       "      <td>30 - 39 Years</td>\n",
       "      <td>Unknown</td>\n",
       "      <td>Unknown</td>\n",
       "      <td>No</td>\n",
       "      <td>2020-05</td>\n",
       "      <td>Unknown,Male</td>\n",
       "      <td>0.122100</td>\n",
       "      <td>30 - 39 Years,Male</td>\n",
       "      <td>0.126904</td>\n",
       "      <td>Unknown,Male</td>\n",
       "      <td>0.050684</td>\n",
       "    </tr>\n",
       "    <tr>\n",
       "      <th>9998</th>\n",
       "      <td>2020-08-28</td>\n",
       "      <td>Probable Case</td>\n",
       "      <td>Female</td>\n",
       "      <td>30 - 39 Years</td>\n",
       "      <td>Black, Non-Hispanic</td>\n",
       "      <td>No</td>\n",
       "      <td>No</td>\n",
       "      <td>2020-08</td>\n",
       "      <td>No,Female</td>\n",
       "      <td>0.025189</td>\n",
       "      <td>30 - 39 Years,Female</td>\n",
       "      <td>0.116959</td>\n",
       "      <td>Black, Non-Hispanic,Female</td>\n",
       "      <td>0.250000</td>\n",
       "    </tr>\n",
       "    <tr>\n",
       "      <th>9999</th>\n",
       "      <td>2020-12-11</td>\n",
       "      <td>Laboratory-confirmed case</td>\n",
       "      <td>Male</td>\n",
       "      <td>70 - 79 Years</td>\n",
       "      <td>White, Non-Hispanic</td>\n",
       "      <td>No</td>\n",
       "      <td>No</td>\n",
       "      <td>2020-12</td>\n",
       "      <td>No,Male</td>\n",
       "      <td>0.028241</td>\n",
       "      <td>70 - 79 Years,Male</td>\n",
       "      <td>0.332226</td>\n",
       "      <td>White, Non-Hispanic,Male</td>\n",
       "      <td>0.063654</td>\n",
       "    </tr>\n",
       "  </tbody>\n",
       "</table>\n",
       "<p>10000 rows × 14 columns</p>\n",
       "</div>"
      ],
      "text/plain": [
       "     cdc_case_earliest_dt             current_status     sex      age_group  \\\n",
       "0              2020-12-30  Laboratory-confirmed case    Male  40 - 49 Years   \n",
       "1              2020-12-21  Laboratory-confirmed case    Male  60 - 69 Years   \n",
       "2              2020-11-20              Probable Case  Female  30 - 39 Years   \n",
       "3              2020-12-17  Laboratory-confirmed case    Male  10 - 19 Years   \n",
       "4              2020-04-24  Laboratory-confirmed case  Female  50 - 59 Years   \n",
       "...                   ...                        ...     ...            ...   \n",
       "9995           2020-11-01  Laboratory-confirmed case    Male  30 - 39 Years   \n",
       "9996           2020-10-04  Laboratory-confirmed case    Male  60 - 69 Years   \n",
       "9997           2020-05-26  Laboratory-confirmed case    Male  30 - 39 Years   \n",
       "9998           2020-08-28              Probable Case  Female  30 - 39 Years   \n",
       "9999           2020-12-11  Laboratory-confirmed case    Male  70 - 79 Years   \n",
       "\n",
       "     race_ethnicity_combined  hosp_yn death_yn yearMonth      hosp_sex  \\\n",
       "0        White, Non-Hispanic       No       No   2020-12       No,Male   \n",
       "1        White, Non-Hispanic       No       No   2020-12       No,Male   \n",
       "2                    Unknown       No       No   2020-11     No,Female   \n",
       "3                    Unknown  Unknown       No   2020-12  Unknown,Male   \n",
       "4        White, Non-Hispanic       No       No   2020-04     No,Female   \n",
       "...                      ...      ...      ...       ...           ...   \n",
       "9995     White, Non-Hispanic       No       No   2020-11       No,Male   \n",
       "9996     White, Non-Hispanic       No       No   2020-10       No,Male   \n",
       "9997                 Unknown  Unknown       No   2020-05  Unknown,Male   \n",
       "9998     Black, Non-Hispanic       No       No   2020-08     No,Female   \n",
       "9999     White, Non-Hispanic       No       No   2020-12       No,Male   \n",
       "\n",
       "      percent_hosp_sex               age_sex  percent_age_sex  \\\n",
       "0             0.028241    40 - 49 Years,Male         0.153846   \n",
       "1             0.028241    60 - 69 Years,Male         0.193424   \n",
       "2             0.025189  30 - 39 Years,Female         0.116959   \n",
       "3             0.122100    10 - 19 Years,Male         0.198807   \n",
       "4             0.025189  50 - 59 Years,Female         0.138313   \n",
       "...                ...                   ...              ...   \n",
       "9995          0.028241    30 - 39 Years,Male         0.126904   \n",
       "9996          0.028241    60 - 69 Years,Male         0.193424   \n",
       "9997          0.122100    30 - 39 Years,Male         0.126904   \n",
       "9998          0.025189  30 - 39 Years,Female         0.116959   \n",
       "9999          0.028241    70 - 79 Years,Male         0.332226   \n",
       "\n",
       "              race_ethnicity_sex  percent_race_ethnicity_sex  \n",
       "0       White, Non-Hispanic,Male                    0.063654  \n",
       "1       White, Non-Hispanic,Male                    0.063654  \n",
       "2                 Unknown,Female                    0.047416  \n",
       "3                   Unknown,Male                    0.050684  \n",
       "4     White, Non-Hispanic,Female                    0.056754  \n",
       "...                          ...                         ...  \n",
       "9995    White, Non-Hispanic,Male                    0.063654  \n",
       "9996    White, Non-Hispanic,Male                    0.063654  \n",
       "9997                Unknown,Male                    0.050684  \n",
       "9998  Black, Non-Hispanic,Female                    0.250000  \n",
       "9999    White, Non-Hispanic,Male                    0.063654  \n",
       "\n",
       "[10000 rows x 14 columns]"
      ]
     },
     "execution_count": 72,
     "metadata": {},
     "output_type": "execute_result"
    }
   ],
   "source": [
    "#looking at the final version of the dataframe with the 3 new features\n",
    "df_raw"
   ]
  },
  {
   "cell_type": "code",
   "execution_count": 73,
   "id": "light-weapon",
   "metadata": {},
   "outputs": [],
   "source": [
    "# Write the cleaned dataframe to a csv file\n",
    "df_raw.to_csv('Homework_dataset_cleaned_new_features.csv', index=False)"
   ]
  },
  {
   "cell_type": "code",
   "execution_count": null,
   "id": "solid-aerospace",
   "metadata": {},
   "outputs": [],
   "source": []
  }
 ],
 "metadata": {
  "kernelspec": {
   "display_name": "Python 3",
   "language": "python",
   "name": "python3"
  },
  "language_info": {
   "codemirror_mode": {
    "name": "ipython",
    "version": 3
   },
   "file_extension": ".py",
   "mimetype": "text/x-python",
   "name": "python",
   "nbconvert_exporter": "python",
   "pygments_lexer": "ipython3",
   "version": "3.8.5"
  }
 },
 "nbformat": 4,
 "nbformat_minor": 5
}
